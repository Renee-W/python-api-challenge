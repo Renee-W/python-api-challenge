{
 "cells": [
  {
   "cell_type": "markdown",
   "metadata": {},
   "source": [
    "# WeatherPy\n",
    "----\n",
    "\n",
    "#### Note\n",
    "* Instructions have been included for each segment. You do not have to follow them exactly, but they are included to help you think through the steps."
   ]
  },
  {
   "cell_type": "code",
   "execution_count": 1,
   "metadata": {
    "scrolled": true
   },
   "outputs": [],
   "source": [
    "# Dependencies and Setup\n",
    "import matplotlib.pyplot as plt\n",
    "import pandas as pd\n",
    "import numpy as np\n",
    "import requests\n",
    "import time\n",
    "from scipy.stats import linregress\n",
    "\n",
    "# Import API key\n",
    "from api_keys import weather_api_key\n",
    "\n",
    "# Incorporated citipy to determine city based on latitude and longitude\n",
    "from citipy import citipy\n",
    "\n",
    "# Output File (CSV)\n",
    "output_data_file = \"output/cities.csv\"\n",
    "\n",
    "# Range of latitudes and longitudes\n",
    "lat_range = (-90, 90)\n",
    "lng_range = (-180, 180)"
   ]
  },
  {
   "cell_type": "markdown",
   "metadata": {},
   "source": [
    "## Generate Cities List"
   ]
  },
  {
   "cell_type": "code",
   "execution_count": 2,
   "metadata": {},
   "outputs": [
    {
     "data": {
      "text/plain": [
       "620"
      ]
     },
     "execution_count": 2,
     "metadata": {},
     "output_type": "execute_result"
    }
   ],
   "source": [
    "# List for holding lat_lngs and cities\n",
    "lat_lngs = []\n",
    "cities = []\n",
    "\n",
    "# Create a set of random lat and lng combinations\n",
    "lats = np.random.uniform(lat_range[0], lat_range[1], size=1500)\n",
    "lngs = np.random.uniform(lng_range[0], lng_range[1], size=1500)\n",
    "lat_lngs = zip(lats, lngs)\n",
    "\n",
    "# Identify nearest city for each lat, lng combination\n",
    "for lat_lng in lat_lngs:\n",
    "    city = citipy.nearest_city(lat_lng[0], lat_lng[1]).city_name\n",
    "    \n",
    "    # If the city is unique, then add it to a our cities list\n",
    "    if city not in cities:\n",
    "        cities.append(city)\n",
    "\n",
    "# Print the city count to confirm sufficient count\n",
    "len(cities)"
   ]
  },
  {
   "cell_type": "markdown",
   "metadata": {},
   "source": [
    "### Perform API Calls\n",
    "* Perform a weather check on each city using a series of successive API calls.\n",
    "* Include a print log of each city as it'sbeing processed (with the city number and city name).\n"
   ]
  },
  {
   "cell_type": "code",
   "execution_count": 3,
   "metadata": {
    "scrolled": true
   },
   "outputs": [
    {
     "name": "stdout",
     "output_type": "stream",
     "text": [
      "processing biak\n",
      "processing shimoda\n",
      "processing rikitea\n",
      "processing tromso\n",
      "processing port blair\n",
      "processing bluff\n",
      "processing pahalgam\n",
      "processing port alfred\n",
      "processing ouesso\n",
      "processing coquimbo\n",
      "processing cidreira\n",
      "processing puerto ayora\n",
      "processing butaritari\n",
      "processing norman wells\n",
      "processing lavrentiya\n",
      "processing dunedin\n",
      "processing cape town\n",
      "processing new norfolk\n",
      "processing adrar\n",
      "missing field skip\n",
      "processing bull savanna\n",
      "missing field skip\n",
      "processing aksarka\n",
      "processing kodiak\n",
      "processing husavik\n",
      "processing punta arenas\n",
      "processing tecoanapa\n",
      "processing yar-sale\n",
      "processing la romana\n",
      "missing field skip\n",
      "processing port hawkesbury\n",
      "processing ngunguru\n",
      "processing atuona\n",
      "processing upernavik\n",
      "processing hermanus\n",
      "processing bengkulu\n",
      "processing avarua\n",
      "missing field skip\n",
      "processing ushuaia\n",
      "processing khartoum\n",
      "processing lompoc\n",
      "processing erenhot\n",
      "processing kulhudhuffushi\n",
      "processing esperance\n",
      "processing nikolskoye\n",
      "processing mahebourg\n",
      "missing field skip\n",
      "missing field skip\n",
      "processing springbok\n",
      "processing busselton\n",
      "processing kapaa\n",
      "processing manjacaze\n",
      "processing xingyi\n",
      "missing field skip\n",
      "processing jamestown\n",
      "processing port elizabeth\n",
      "processing albany\n",
      "missing field skip\n",
      "processing leshukonskoye\n",
      "processing chhatarpur\n",
      "processing meihekou\n",
      "processing lebu\n",
      "processing takoradi\n",
      "processing saint george\n",
      "processing mataura\n",
      "processing vardo\n",
      "processing parabel\n",
      "processing yilan\n",
      "missing field skip\n",
      "processing hithadhoo\n",
      "processing hofn\n",
      "processing brae\n",
      "processing rio grande\n",
      "processing hobart\n",
      "processing carnarvon\n",
      "processing talnakh\n",
      "missing field skip\n",
      "processing ponta do sol\n",
      "processing narsaq\n",
      "processing bredasdorp\n",
      "processing mweka\n",
      "processing nelson bay\n",
      "processing bac lieu\n",
      "processing hilo\n",
      "processing guiglo\n",
      "processing tunggol\n",
      "processing muravlenko\n",
      "processing kaitangata\n",
      "processing srednekolymsk\n",
      "processing severo-kurilsk\n",
      "processing anito\n",
      "processing thompson\n",
      "processing broome\n",
      "processing chengde\n",
      "processing ust-kuyga\n",
      "processing yatou\n",
      "processing fortuna\n",
      "processing kudahuvadhoo\n",
      "processing florianopolis\n",
      "processing inhambane\n",
      "processing gayny\n",
      "processing brus\n",
      "processing longyearbyen\n",
      "processing san borja\n",
      "processing ribeira grande\n",
      "processing lethem\n",
      "processing tuktoyaktuk\n",
      "processing east london\n",
      "processing oranjemund\n",
      "processing tawang\n",
      "processing castro\n",
      "processing saskylakh\n",
      "processing xiazhen\n",
      "processing bintulu\n",
      "processing maryville\n",
      "processing suhbaatar\n",
      "processing bell ville\n",
      "processing paita\n",
      "processing aklavik\n",
      "processing asfi\n",
      "processing hope\n",
      "processing mugumu\n",
      "missing field skip\n",
      "missing field skip\n",
      "processing christchurch\n",
      "processing urengoy\n",
      "processing chokurdakh\n",
      "processing merauke\n",
      "processing kavieng\n",
      "processing vanimo\n",
      "processing chuy\n",
      "processing port hedland\n",
      "missing field skip\n",
      "processing pisco\n",
      "processing port keats\n",
      "processing tasiilaq\n",
      "processing fairbanks\n",
      "processing mar del plata\n",
      "processing carora\n",
      "processing alta floresta\n",
      "missing field skip\n",
      "processing huarmey\n",
      "processing alibag\n",
      "processing rawson\n",
      "processing ballina\n",
      "processing okhotsk\n",
      "processing orleans\n",
      "processing asau\n",
      "processing mitsamiouli\n",
      "processing tiksi\n",
      "processing provideniya\n",
      "processing cahors\n",
      "processing jasper\n",
      "processing churachandpur\n",
      "processing yellowknife\n",
      "processing akyab\n",
      "processing tomatlan\n",
      "processing salalah\n",
      "missing field skip\n",
      "processing dikson\n",
      "processing mehamn\n",
      "processing karasjok\n",
      "processing klaksvik\n",
      "processing shanghai\n",
      "processing lodja\n",
      "processing waipawa\n",
      "processing saint-philippe\n",
      "processing saint-augustin\n",
      "missing field skip\n",
      "processing madang\n",
      "processing coihaique\n",
      "processing marzuq\n",
      "processing doha\n",
      "processing vaini\n",
      "processing ahipara\n",
      "processing lensk\n",
      "processing dhidhdhoo\n",
      "processing sokoni\n",
      "processing labuhan\n",
      "processing mackenzie\n",
      "processing bhatkal\n",
      "processing aberdeen\n",
      "processing avera\n",
      "missing field skip\n",
      "processing taoudenni\n",
      "processing novaya zaimka\n",
      "processing aleksandrovskoye\n",
      "processing hohhot\n",
      "processing vao\n",
      "processing kaihua\n",
      "processing solano\n",
      "processing empalme\n",
      "processing dingle\n",
      "processing kloulklubed\n",
      "processing homer\n",
      "processing jiuquan\n",
      "missing field skip\n",
      "processing waingapu\n",
      "processing hernani\n",
      "processing naze\n",
      "processing clyde river\n",
      "processing kenai\n",
      "processing itoman\n",
      "processing gamba\n",
      "processing luorong\n",
      "processing oda\n",
      "processing resistencia\n",
      "processing georgetown\n",
      "processing atbasar\n",
      "processing pyay\n",
      "processing amos\n",
      "processing pacifica\n",
      "processing bilibino\n",
      "processing traverse city\n",
      "processing alcudia\n",
      "processing batemans bay\n",
      "processing chikmagalur\n",
      "missing field skip\n",
      "missing field skip\n",
      "processing half moon bay\n",
      "processing potsdam\n",
      "processing klyuchi\n",
      "processing khatanga\n",
      "processing xiongzhou\n",
      "processing grand gaube\n",
      "missing field skip\n",
      "processing tilichiki\n",
      "processing mwene-ditu\n",
      "processing vila\n",
      "processing komsomolskiy\n",
      "processing alice springs\n",
      "processing loukhi\n",
      "processing nanortalik\n",
      "processing zhongshu\n",
      "processing lamar\n",
      "processing souillac\n",
      "processing le port\n",
      "processing sabang\n",
      "processing tahta\n",
      "missing field skip\n",
      "processing tuatapere\n",
      "processing victoria\n",
      "missing field skip\n",
      "processing havelock\n",
      "processing antofagasta\n",
      "processing constantine\n",
      "processing neftekamsk\n",
      "processing caravelas\n",
      "processing slobozia\n",
      "processing arraial do cabo\n",
      "processing kargil\n",
      "processing sri aman\n",
      "processing houma\n",
      "processing codrington\n",
      "processing san cristobal\n",
      "processing presidencia roque saenz pena\n",
      "processing verkhnyaya sinyachikha\n",
      "missing field skip\n",
      "processing lujan\n",
      "processing isabela\n",
      "processing ishigaki\n",
      "processing donskoye\n",
      "processing kropotkin\n",
      "processing turayf\n",
      "processing pevek\n",
      "processing brigantine\n",
      "processing kingaroy\n",
      "processing san ramon\n",
      "processing sao filipe\n",
      "processing faanui\n",
      "processing shenjiamen\n",
      "processing tommot\n",
      "processing barao de melgaco\n",
      "processing muros\n",
      "processing richards bay\n",
      "processing coahuayana\n",
      "processing vostok\n",
      "processing cap-aux-meules\n",
      "processing raudeberg\n",
      "processing saint-georges\n",
      "processing peniche\n",
      "processing kingston\n",
      "processing tete\n",
      "processing madhubani\n",
      "processing pochutla\n",
      "processing barrow\n",
      "processing mayo\n",
      "missing field skip\n",
      "processing bacolod\n",
      "processing bethel\n",
      "processing pangody\n",
      "processing vanavara\n",
      "processing voznesenye\n",
      "processing mapiripan\n",
      "processing boulder\n",
      "processing laguna\n",
      "missing field skip\n",
      "processing yerbogachen\n",
      "processing nara\n",
      "processing iqaluit\n",
      "processing alofi\n",
      "processing gigmoto\n",
      "processing vila velha\n",
      "missing field skip\n",
      "processing burns lake\n",
      "processing buala\n",
      "processing caceres\n",
      "processing bubaque\n",
      "processing balad\n",
      "processing masvingo\n",
      "processing palmer\n",
      "processing nome\n",
      "processing iberia\n",
      "processing cherskiy\n",
      "processing cotabato\n",
      "processing strelka\n",
      "processing tianpeng\n",
      "processing qaanaaq\n",
      "processing vilhena\n",
      "processing aksehir\n",
      "processing berlevag\n",
      "processing llanes\n",
      "processing anori\n",
      "processing alihe\n",
      "processing jacksonville beach\n",
      "processing bereda\n",
      "missing field skip\n",
      "processing umm lajj\n",
      "processing henties bay\n",
      "processing lorengau\n",
      "processing bambous virieux\n",
      "processing puerto quijarro\n",
      "processing ancud\n",
      "processing kitgum\n",
      "processing guerrero negro\n",
      "processing stavrovo\n",
      "processing havre\n",
      "processing zhigansk\n",
      "missing field skip\n",
      "processing katherine\n",
      "processing ikongo\n",
      "processing mokolo\n",
      "processing mercedes\n",
      "processing acapulco\n",
      "processing mareeba\n",
      "processing matay\n",
      "processing havoysund\n",
      "processing ironton\n",
      "processing mwinilunga\n",
      "processing karratha\n",
      "processing galveston\n",
      "processing comodoro rivadavia\n",
      "processing geraldton\n",
      "processing kardla\n",
      "processing hanumangarh\n",
      "processing banda aceh\n",
      "processing tautira\n",
      "processing ilulissat\n",
      "processing vrangel\n",
      "processing parkersburg\n",
      "processing teluknaga\n",
      "processing nemuro\n",
      "processing kampong chhnang\n",
      "processing padang\n",
      "processing neuquen\n",
      "processing kayerkan\n",
      "processing perote\n",
      "processing saint-joseph\n",
      "processing katsuura\n",
      "processing ambon\n",
      "processing hutchinson\n",
      "processing sao joao da barra\n",
      "processing haines junction\n",
      "processing sitka\n",
      "processing delvada\n",
      "processing makakilo city\n",
      "processing menongue\n",
      "missing field skip\n",
      "processing jimenez\n",
      "processing graaff-reinet\n",
      "processing vestmanna\n",
      "processing alugan\n",
      "processing abalak\n",
      "processing ocampo\n",
      "processing cockburn town\n",
      "processing san buenaventura\n",
      "processing macaiba\n",
      "processing soyo\n",
      "processing maroantsetra\n",
      "processing bikin\n",
      "processing shaunavon\n",
      "processing worland\n",
      "processing bira\n",
      "missing field skip\n",
      "processing kavaratti\n",
      "processing kuytun\n",
      "processing mundo nuevo\n",
      "processing natchitoches\n",
      "processing inhambupe\n",
      "missing field skip\n",
      "processing xiaoshi\n",
      "processing kaeo\n",
      "processing saurimo\n",
      "processing maniitsoq\n",
      "processing rio gallegos\n",
      "processing smiltene\n",
      "processing jiblah\n"
     ]
    },
    {
     "name": "stdout",
     "output_type": "stream",
     "text": [
      "processing tiznit\n",
      "processing iralaya\n",
      "processing kutum\n",
      "processing sorong\n",
      "processing chumikan\n",
      "processing beckley\n",
      "processing nurota\n",
      "processing denpasar\n",
      "processing alekseyevskaya\n",
      "processing davidson\n",
      "processing mangla\n",
      "processing sola\n",
      "processing san fernando\n",
      "processing tacuarembo\n",
      "processing puerto leguizamo\n",
      "processing weihe\n",
      "processing mackay\n",
      "processing emba\n",
      "processing sisimiut\n",
      "processing strezhevoy\n",
      "processing balkanabat\n",
      "processing kahului\n",
      "processing isangel\n",
      "processing flinders\n",
      "processing kiunga\n",
      "processing delijan\n",
      "processing kendari\n",
      "processing mahenge\n",
      "processing pokhara\n",
      "processing keroka\n",
      "missing field skip\n",
      "processing bandarbeyla\n",
      "processing mount gambier\n",
      "processing sidi ali\n",
      "processing lagoa\n",
      "processing oranjestad\n",
      "processing santa cruz\n",
      "processing krasnyy chikoy\n",
      "processing nhulunbuy\n",
      "processing yulara\n",
      "missing field skip\n",
      "processing torbay\n",
      "processing hinganghat\n",
      "processing lagunas\n",
      "processing constitucion\n",
      "processing cabo san lucas\n",
      "processing neepawa\n",
      "processing shitanjing\n",
      "processing tuim\n",
      "processing mount isa\n",
      "processing kushmurun\n",
      "processing portland\n",
      "processing rock sound\n",
      "missing field skip\n",
      "processing tarsus\n",
      "processing west wendover\n",
      "processing antigua ocotepeque\n",
      "processing boden\n",
      "processing ulagan\n",
      "processing williams lake\n",
      "missing field skip\n",
      "processing surt\n",
      "processing baragua\n",
      "processing petropavlovsk-kamchatskiy\n",
      "processing qui nhon\n",
      "processing tura\n",
      "processing salinas\n",
      "processing ostersund\n",
      "processing lufilufi\n",
      "processing korla\n",
      "processing visina\n",
      "processing taltal\n",
      "processing walvis bay\n",
      "processing kang\n",
      "processing dudinka\n",
      "processing karpogory\n",
      "missing field skip\n",
      "processing pitimbu\n",
      "missing field skip\n",
      "missing field skip\n",
      "processing chardara\n",
      "processing ganta\n",
      "processing abonnema\n",
      "processing san luis\n",
      "processing birjand\n",
      "processing kroya\n",
      "missing field skip\n",
      "processing kamaishi\n",
      "processing maua\n",
      "processing kapchorwa\n",
      "processing san patricio\n",
      "processing qaqortoq\n",
      "processing hamilton\n",
      "processing nishihara\n",
      "processing margate\n",
      "processing mandali\n",
      "processing batagay\n",
      "processing deputatskiy\n",
      "processing lashio\n",
      "processing sakaiminato\n",
      "missing field skip\n",
      "processing kyabe\n",
      "processing hay river\n",
      "processing mecca\n",
      "processing westport\n",
      "processing mayumba\n",
      "processing nago\n",
      "processing xinqing\n",
      "missing field skip\n",
      "processing howick\n",
      "missing field skip\n",
      "processing surgut\n",
      "processing waddan\n",
      "processing onega\n",
      "processing prince rupert\n",
      "processing batsfjord\n",
      "processing itaituba\n",
      "processing bushehr\n",
      "processing kruisfontein\n",
      "processing danielskuil\n",
      "processing vuktyl\n",
      "processing calabar\n",
      "processing betioky\n",
      "processing jinchang\n",
      "processing salinopolis\n",
      "processing luderitz\n",
      "missing field skip\n",
      "processing hambantota\n",
      "processing trairi\n",
      "processing sinnamary\n",
      "processing urubicha\n",
      "processing cayenne\n",
      "processing sibolga\n",
      "processing imbituba\n",
      "processing moose factory\n",
      "processing terrace\n",
      "processing kelo\n",
      "processing saldanha\n",
      "processing kraslava\n",
      "processing hendaye\n",
      "processing luanda\n",
      "processing non sang\n",
      "processing yabrud\n",
      "processing antsohihy\n",
      "processing jackson\n",
      "processing idukki\n",
      "missing field skip\n",
      "missing field skip\n",
      "processing kununurra\n",
      "processing goderich\n",
      "processing panama city\n",
      "processing port moresby\n",
      "processing aswan\n",
      "processing matane\n",
      "processing tolaga bay\n",
      "processing morant bay\n",
      "processing zapolyarnyy\n",
      "processing the pas\n",
      "processing kandrian\n",
      "missing field skip\n",
      "processing ucluelet\n",
      "processing puerto escondido\n",
      "processing bria\n",
      "processing te anau\n",
      "processing kintampo\n",
      "processing tokonou\n",
      "processing soubre\n",
      "processing fukue\n",
      "processing porto novo\n",
      "processing terrak\n",
      "processing ushumun\n",
      "processing maceio\n",
      "processing matagami\n",
      "processing rupert\n",
      "processing san nicolas\n",
      "processing luba\n",
      "processing batticaloa\n",
      "processing kodinsk\n",
      "missing field skip\n",
      "processing manhattan\n",
      "processing fort nelson\n",
      "processing pauini\n",
      "processing svetlyy\n",
      "processing puerto madero\n",
      "processing shunyi\n",
      "processing amahai\n",
      "processing tiarei\n",
      "processing san carlos del zulia\n",
      "processing lata\n",
      "processing krasnoshchekovo\n",
      "processing namibe\n",
      "missing field skip\n",
      "processing truth or consequences\n",
      "processing hargeysa\n",
      "processing paragominas\n",
      "processing powell river\n",
      "processing jian\n",
      "processing pihani\n",
      "processing nuuk\n",
      "processing carballo\n",
      "processing semey\n",
      "processing skegness\n",
      "processing olavarria\n",
      "processing dongkan\n",
      "processing itarema\n",
      "processing ulaanbaatar\n",
      "processing guaruja\n",
      "processing kuteynykove\n",
      "processing weatherford\n",
      "processing khasan\n",
      "processing ardmore\n",
      "processing balabac\n",
      "processing bambanglipuro\n"
     ]
    }
   ],
   "source": [
    "# Save config information.\n",
    "url = \"http://api.openweathermap.org/data/2.5/weather?\"\n",
    "units='imperial'\n",
    "\n",
    "query_url = f\"{url}appid={weather_api_key}&units={units}&q=\"\n",
    "\n",
    "# # set up lists to hold reponse info\n",
    "lat = []\n",
    "temp = []\n",
    "lon = []\n",
    "temp_max = []\n",
    "humidity = []\n",
    "clouds = []\n",
    "speed = []\n",
    "country = []\n",
    "date = []\n",
    "weather_city=[]\n",
    "\n",
    "\n",
    "for city in cities:\n",
    "    weather_response = requests.get(query_url + city).json()\n",
    "    \n",
    "    try:\n",
    "        lat.append(weather_response['coord']['lat'])\n",
    "        lon.append(weather_response['coord']['lon'])\n",
    "        temp.append(weather_response['main']['temp'])\n",
    "        temp_max.append(weather_response ['main']['temp_max'])\n",
    "        humidity.append(weather_response ['main']['humidity'])\n",
    "        clouds.append(weather_response ['clouds']['all'])\n",
    "        speed.append(weather_response ['wind']['speed'])\n",
    "        country.append(weather_response ['sys']['country'])\n",
    "        date.append(weather_response ['dt'])\n",
    "        weather_city.append(city)\n",
    "        print(f\"processing {city}\")\n",
    "        \n",
    "    except(KeyError):\n",
    "        print('missing field skip')"
   ]
  },
  {
   "cell_type": "markdown",
   "metadata": {},
   "source": [
    "### Convert Raw Data to DataFrame\n",
    "* Export the city data into a .csv.\n",
    "* Display the DataFrame"
   ]
  },
  {
   "cell_type": "code",
   "execution_count": 4,
   "metadata": {},
   "outputs": [],
   "source": [
    "#create city data frame\n",
    "city_dict={\n",
    "    \"City\":cities,\n",
    "    \"Lat\":lat,\n",
    "    \"Lng\":lon,\n",
    "    \"Max Temp\":temp_max,\n",
    "    \"Humidity\":humidity,\n",
    "    \"Cloudiness\":clouds,\n",
    "    \"Wind Speed\":speed,\n",
    "    \"Country\":country,\n",
    "    \"Date\":date\n",
    "}\n",
    "weather_data = pd.DataFrame.from_dict(city_dict, orient='index')\n",
    "weather_data=weather_data.transpose()"
   ]
  },
  {
   "cell_type": "code",
   "execution_count": 11,
   "metadata": {},
   "outputs": [
    {
     "data": {
      "text/html": [
       "<div>\n",
       "<style scoped>\n",
       "    .dataframe tbody tr th:only-of-type {\n",
       "        vertical-align: middle;\n",
       "    }\n",
       "\n",
       "    .dataframe tbody tr th {\n",
       "        vertical-align: top;\n",
       "    }\n",
       "\n",
       "    .dataframe thead th {\n",
       "        text-align: right;\n",
       "    }\n",
       "</style>\n",
       "<table border=\"1\" class=\"dataframe\">\n",
       "  <thead>\n",
       "    <tr style=\"text-align: right;\">\n",
       "      <th></th>\n",
       "      <th>City</th>\n",
       "      <th>Lat</th>\n",
       "      <th>Lng</th>\n",
       "      <th>Max Temp</th>\n",
       "      <th>Humidity</th>\n",
       "      <th>Cloudiness</th>\n",
       "      <th>Wind Speed</th>\n",
       "      <th>Country</th>\n",
       "      <th>Date</th>\n",
       "    </tr>\n",
       "  </thead>\n",
       "  <tbody>\n",
       "    <tr>\n",
       "      <th>0</th>\n",
       "      <td>biak</td>\n",
       "      <td>-0.9131</td>\n",
       "      <td>122.877</td>\n",
       "      <td>80.67</td>\n",
       "      <td>76</td>\n",
       "      <td>96</td>\n",
       "      <td>3.22</td>\n",
       "      <td>ID</td>\n",
       "      <td>1618461958</td>\n",
       "    </tr>\n",
       "    <tr>\n",
       "      <th>1</th>\n",
       "      <td>shimoda</td>\n",
       "      <td>34.6667</td>\n",
       "      <td>138.95</td>\n",
       "      <td>55.4</td>\n",
       "      <td>47</td>\n",
       "      <td>75</td>\n",
       "      <td>9.22</td>\n",
       "      <td>JP</td>\n",
       "      <td>1618461958</td>\n",
       "    </tr>\n",
       "    <tr>\n",
       "      <th>2</th>\n",
       "      <td>rikitea</td>\n",
       "      <td>-23.1203</td>\n",
       "      <td>-134.969</td>\n",
       "      <td>78.57</td>\n",
       "      <td>72</td>\n",
       "      <td>13</td>\n",
       "      <td>8.68</td>\n",
       "      <td>PF</td>\n",
       "      <td>1618461805</td>\n",
       "    </tr>\n",
       "    <tr>\n",
       "      <th>3</th>\n",
       "      <td>tromso</td>\n",
       "      <td>69.6496</td>\n",
       "      <td>18.957</td>\n",
       "      <td>33.8</td>\n",
       "      <td>93</td>\n",
       "      <td>90</td>\n",
       "      <td>17.27</td>\n",
       "      <td>NO</td>\n",
       "      <td>1618461959</td>\n",
       "    </tr>\n",
       "    <tr>\n",
       "      <th>4</th>\n",
       "      <td>port blair</td>\n",
       "      <td>11.6667</td>\n",
       "      <td>92.75</td>\n",
       "      <td>85.68</td>\n",
       "      <td>66</td>\n",
       "      <td>100</td>\n",
       "      <td>4.97</td>\n",
       "      <td>IN</td>\n",
       "      <td>1618461904</td>\n",
       "    </tr>\n",
       "    <tr>\n",
       "      <th>...</th>\n",
       "      <td>...</td>\n",
       "      <td>...</td>\n",
       "      <td>...</td>\n",
       "      <td>...</td>\n",
       "      <td>...</td>\n",
       "      <td>...</td>\n",
       "      <td>...</td>\n",
       "      <td>...</td>\n",
       "      <td>...</td>\n",
       "    </tr>\n",
       "    <tr>\n",
       "      <th>566</th>\n",
       "      <td>palabuhanratu</td>\n",
       "      <td>32.7593</td>\n",
       "      <td>-97.7972</td>\n",
       "      <td>59</td>\n",
       "      <td>89</td>\n",
       "      <td>100</td>\n",
       "      <td>5.01</td>\n",
       "      <td>US</td>\n",
       "      <td>1618462165</td>\n",
       "    </tr>\n",
       "    <tr>\n",
       "      <th>567</th>\n",
       "      <td>ucluelet</td>\n",
       "      <td>42.4308</td>\n",
       "      <td>130.643</td>\n",
       "      <td>49.12</td>\n",
       "      <td>43</td>\n",
       "      <td>75</td>\n",
       "      <td>12.62</td>\n",
       "      <td>RU</td>\n",
       "      <td>1618462165</td>\n",
       "    </tr>\n",
       "    <tr>\n",
       "      <th>568</th>\n",
       "      <td>puerto escondido</td>\n",
       "      <td>34.1743</td>\n",
       "      <td>-97.1436</td>\n",
       "      <td>54</td>\n",
       "      <td>94</td>\n",
       "      <td>90</td>\n",
       "      <td>10.36</td>\n",
       "      <td>US</td>\n",
       "      <td>1618462165</td>\n",
       "    </tr>\n",
       "    <tr>\n",
       "      <th>569</th>\n",
       "      <td>bria</td>\n",
       "      <td>7.9868</td>\n",
       "      <td>117.064</td>\n",
       "      <td>84.81</td>\n",
       "      <td>68</td>\n",
       "      <td>68</td>\n",
       "      <td>9.84</td>\n",
       "      <td>PH</td>\n",
       "      <td>1618462166</td>\n",
       "    </tr>\n",
       "    <tr>\n",
       "      <th>570</th>\n",
       "      <td>te anau</td>\n",
       "      <td>-7.95</td>\n",
       "      <td>110.283</td>\n",
       "      <td>85.66</td>\n",
       "      <td>66</td>\n",
       "      <td>26</td>\n",
       "      <td>10.11</td>\n",
       "      <td>ID</td>\n",
       "      <td>1618462166</td>\n",
       "    </tr>\n",
       "  </tbody>\n",
       "</table>\n",
       "<p>571 rows × 9 columns</p>\n",
       "</div>"
      ],
      "text/plain": [
       "                 City      Lat      Lng Max Temp Humidity Cloudiness  \\\n",
       "0                biak  -0.9131  122.877    80.67       76         96   \n",
       "1             shimoda  34.6667   138.95     55.4       47         75   \n",
       "2             rikitea -23.1203 -134.969    78.57       72         13   \n",
       "3              tromso  69.6496   18.957     33.8       93         90   \n",
       "4          port blair  11.6667    92.75    85.68       66        100   \n",
       "..                ...      ...      ...      ...      ...        ...   \n",
       "566     palabuhanratu  32.7593 -97.7972       59       89        100   \n",
       "567          ucluelet  42.4308  130.643    49.12       43         75   \n",
       "568  puerto escondido  34.1743 -97.1436       54       94         90   \n",
       "569              bria   7.9868  117.064    84.81       68         68   \n",
       "570           te anau    -7.95  110.283    85.66       66         26   \n",
       "\n",
       "    Wind Speed Country        Date  \n",
       "0         3.22      ID  1618461958  \n",
       "1         9.22      JP  1618461958  \n",
       "2         8.68      PF  1618461805  \n",
       "3        17.27      NO  1618461959  \n",
       "4         4.97      IN  1618461904  \n",
       "..         ...     ...         ...  \n",
       "566       5.01      US  1618462165  \n",
       "567      12.62      RU  1618462165  \n",
       "568      10.36      US  1618462165  \n",
       "569       9.84      PH  1618462166  \n",
       "570      10.11      ID  1618462166  \n",
       "\n",
       "[571 rows x 9 columns]"
      ]
     },
     "execution_count": 11,
     "metadata": {},
     "output_type": "execute_result"
    }
   ],
   "source": [
    "# Remove null values\n",
    "#add csv file\n",
    "weather_data=weather_data.dropna()\n",
    "#weather_data.to_csv(\"output_data/cities.csv\", encoding=\"utf-8\", index=False)\n",
    "weather_data.to_csv('output/cities.csv', index=False)\n",
    "weather_data"
   ]
  },
  {
   "cell_type": "code",
   "execution_count": 12,
   "metadata": {},
   "outputs": [
    {
     "data": {
      "text/html": [
       "<div>\n",
       "<style scoped>\n",
       "    .dataframe tbody tr th:only-of-type {\n",
       "        vertical-align: middle;\n",
       "    }\n",
       "\n",
       "    .dataframe tbody tr th {\n",
       "        vertical-align: top;\n",
       "    }\n",
       "\n",
       "    .dataframe thead th {\n",
       "        text-align: right;\n",
       "    }\n",
       "</style>\n",
       "<table border=\"1\" class=\"dataframe\">\n",
       "  <thead>\n",
       "    <tr style=\"text-align: right;\">\n",
       "      <th></th>\n",
       "      <th>City</th>\n",
       "      <th>Country</th>\n",
       "      <th>Lat</th>\n",
       "      <th>Lng</th>\n",
       "      <th>Max Temp</th>\n",
       "      <th>Humidity</th>\n",
       "      <th>Cloudiness</th>\n",
       "      <th>Wind Speed</th>\n",
       "      <th>Date</th>\n",
       "    </tr>\n",
       "  </thead>\n",
       "  <tbody>\n",
       "    <tr>\n",
       "      <th>0</th>\n",
       "      <td>biak</td>\n",
       "      <td>ID</td>\n",
       "      <td>-0.9131</td>\n",
       "      <td>122.877</td>\n",
       "      <td>80.67</td>\n",
       "      <td>76.0</td>\n",
       "      <td>96.0</td>\n",
       "      <td>3.22</td>\n",
       "      <td>1.618462e+09</td>\n",
       "    </tr>\n",
       "    <tr>\n",
       "      <th>1</th>\n",
       "      <td>shimoda</td>\n",
       "      <td>JP</td>\n",
       "      <td>34.6667</td>\n",
       "      <td>138.95</td>\n",
       "      <td>55.40</td>\n",
       "      <td>47.0</td>\n",
       "      <td>75.0</td>\n",
       "      <td>9.22</td>\n",
       "      <td>1.618462e+09</td>\n",
       "    </tr>\n",
       "    <tr>\n",
       "      <th>2</th>\n",
       "      <td>rikitea</td>\n",
       "      <td>PF</td>\n",
       "      <td>-23.1203</td>\n",
       "      <td>-134.969</td>\n",
       "      <td>78.57</td>\n",
       "      <td>72.0</td>\n",
       "      <td>13.0</td>\n",
       "      <td>8.68</td>\n",
       "      <td>1.618462e+09</td>\n",
       "    </tr>\n",
       "    <tr>\n",
       "      <th>3</th>\n",
       "      <td>tromso</td>\n",
       "      <td>NO</td>\n",
       "      <td>69.6496</td>\n",
       "      <td>18.957</td>\n",
       "      <td>33.80</td>\n",
       "      <td>93.0</td>\n",
       "      <td>90.0</td>\n",
       "      <td>17.27</td>\n",
       "      <td>1.618462e+09</td>\n",
       "    </tr>\n",
       "    <tr>\n",
       "      <th>4</th>\n",
       "      <td>port blair</td>\n",
       "      <td>IN</td>\n",
       "      <td>11.6667</td>\n",
       "      <td>92.75</td>\n",
       "      <td>85.68</td>\n",
       "      <td>66.0</td>\n",
       "      <td>100.0</td>\n",
       "      <td>4.97</td>\n",
       "      <td>1.618462e+09</td>\n",
       "    </tr>\n",
       "    <tr>\n",
       "      <th>...</th>\n",
       "      <td>...</td>\n",
       "      <td>...</td>\n",
       "      <td>...</td>\n",
       "      <td>...</td>\n",
       "      <td>...</td>\n",
       "      <td>...</td>\n",
       "      <td>...</td>\n",
       "      <td>...</td>\n",
       "      <td>...</td>\n",
       "    </tr>\n",
       "    <tr>\n",
       "      <th>574</th>\n",
       "      <td>palabuhanratu</td>\n",
       "      <td>US</td>\n",
       "      <td>32.7593</td>\n",
       "      <td>-97.7972</td>\n",
       "      <td>59.00</td>\n",
       "      <td>89.0</td>\n",
       "      <td>100.0</td>\n",
       "      <td>5.01</td>\n",
       "      <td>1.618462e+09</td>\n",
       "    </tr>\n",
       "    <tr>\n",
       "      <th>575</th>\n",
       "      <td>ucluelet</td>\n",
       "      <td>RU</td>\n",
       "      <td>42.4308</td>\n",
       "      <td>130.643</td>\n",
       "      <td>49.12</td>\n",
       "      <td>43.0</td>\n",
       "      <td>75.0</td>\n",
       "      <td>12.62</td>\n",
       "      <td>1.618462e+09</td>\n",
       "    </tr>\n",
       "    <tr>\n",
       "      <th>576</th>\n",
       "      <td>puerto escondido</td>\n",
       "      <td>US</td>\n",
       "      <td>34.1743</td>\n",
       "      <td>-97.1436</td>\n",
       "      <td>54.00</td>\n",
       "      <td>94.0</td>\n",
       "      <td>90.0</td>\n",
       "      <td>10.36</td>\n",
       "      <td>1.618462e+09</td>\n",
       "    </tr>\n",
       "    <tr>\n",
       "      <th>577</th>\n",
       "      <td>bria</td>\n",
       "      <td>PH</td>\n",
       "      <td>7.9868</td>\n",
       "      <td>117.064</td>\n",
       "      <td>84.81</td>\n",
       "      <td>68.0</td>\n",
       "      <td>68.0</td>\n",
       "      <td>9.84</td>\n",
       "      <td>1.618462e+09</td>\n",
       "    </tr>\n",
       "    <tr>\n",
       "      <th>578</th>\n",
       "      <td>te anau</td>\n",
       "      <td>ID</td>\n",
       "      <td>-7.95</td>\n",
       "      <td>110.283</td>\n",
       "      <td>85.66</td>\n",
       "      <td>66.0</td>\n",
       "      <td>26.0</td>\n",
       "      <td>10.11</td>\n",
       "      <td>1.618462e+09</td>\n",
       "    </tr>\n",
       "  </tbody>\n",
       "</table>\n",
       "<p>563 rows × 9 columns</p>\n",
       "</div>"
      ],
      "text/plain": [
       "                 City Country      Lat      Lng  Max Temp  Humidity  \\\n",
       "0                biak      ID  -0.9131  122.877     80.67      76.0   \n",
       "1             shimoda      JP  34.6667   138.95     55.40      47.0   \n",
       "2             rikitea      PF -23.1203 -134.969     78.57      72.0   \n",
       "3              tromso      NO  69.6496   18.957     33.80      93.0   \n",
       "4          port blair      IN  11.6667    92.75     85.68      66.0   \n",
       "..                ...     ...      ...      ...       ...       ...   \n",
       "574     palabuhanratu      US  32.7593 -97.7972     59.00      89.0   \n",
       "575          ucluelet      RU  42.4308  130.643     49.12      43.0   \n",
       "576  puerto escondido      US  34.1743 -97.1436     54.00      94.0   \n",
       "577              bria      PH   7.9868  117.064     84.81      68.0   \n",
       "578           te anau      ID    -7.95  110.283     85.66      66.0   \n",
       "\n",
       "     Cloudiness  Wind Speed          Date  \n",
       "0          96.0        3.22  1.618462e+09  \n",
       "1          75.0        9.22  1.618462e+09  \n",
       "2          13.0        8.68  1.618462e+09  \n",
       "3          90.0       17.27  1.618462e+09  \n",
       "4         100.0        4.97  1.618462e+09  \n",
       "..          ...         ...           ...  \n",
       "574       100.0        5.01  1.618462e+09  \n",
       "575        75.0       12.62  1.618462e+09  \n",
       "576        90.0       10.36  1.618462e+09  \n",
       "577        68.0        9.84  1.618462e+09  \n",
       "578        26.0       10.11  1.618462e+09  \n",
       "\n",
       "[563 rows x 9 columns]"
      ]
     },
     "execution_count": 12,
     "metadata": {},
     "output_type": "execute_result"
    }
   ],
   "source": [
    "#update weather format, remove duplicates\n",
    "weather_update = weather_data[['Lat', 'Lng', 'Max Temp', 'Humidity', 'Cloudiness', 'Wind Speed', 'Date']].astype(float)\n",
    "weather_city=weather_data[['City', 'Country', 'Lat', 'Lng']]\n",
    "weather_combo=pd.merge(weather_city, weather_update, on='Lat', how='inner')\n",
    "duplicateweather=weather_combo.loc[weather_combo.duplicated(subset=['City']),'City']\n",
    "weather2=weather_combo[weather_combo['City'].isin(duplicateweather)==False]\n",
    "del weather2['Lng_y']\n",
    "weather2=weather2.rename(columns={'Lng_x':'Lng'})\n",
    "weather2"
   ]
  },
  {
   "cell_type": "markdown",
   "metadata": {},
   "source": [
    "## Inspect the data and remove the cities where the humidity > 100%.\n",
    "----\n",
    "Skip this step if there are no cities that have humidity > 100%. "
   ]
  },
  {
   "cell_type": "code",
   "execution_count": 13,
   "metadata": {},
   "outputs": [
    {
     "data": {
      "text/html": [
       "<div>\n",
       "<style scoped>\n",
       "    .dataframe tbody tr th:only-of-type {\n",
       "        vertical-align: middle;\n",
       "    }\n",
       "\n",
       "    .dataframe tbody tr th {\n",
       "        vertical-align: top;\n",
       "    }\n",
       "\n",
       "    .dataframe thead th {\n",
       "        text-align: right;\n",
       "    }\n",
       "</style>\n",
       "<table border=\"1\" class=\"dataframe\">\n",
       "  <thead>\n",
       "    <tr style=\"text-align: right;\">\n",
       "      <th></th>\n",
       "      <th>Max Temp</th>\n",
       "      <th>Humidity</th>\n",
       "      <th>Cloudiness</th>\n",
       "      <th>Wind Speed</th>\n",
       "      <th>Date</th>\n",
       "    </tr>\n",
       "  </thead>\n",
       "  <tbody>\n",
       "    <tr>\n",
       "      <th>count</th>\n",
       "      <td>563.000000</td>\n",
       "      <td>563.000000</td>\n",
       "      <td>563.000000</td>\n",
       "      <td>563.000000</td>\n",
       "      <td>5.630000e+02</td>\n",
       "    </tr>\n",
       "    <tr>\n",
       "      <th>mean</th>\n",
       "      <td>60.350622</td>\n",
       "      <td>68.824156</td>\n",
       "      <td>52.753108</td>\n",
       "      <td>7.698810</td>\n",
       "      <td>1.618462e+09</td>\n",
       "    </tr>\n",
       "    <tr>\n",
       "      <th>std</th>\n",
       "      <td>21.032572</td>\n",
       "      <td>22.544207</td>\n",
       "      <td>38.032031</td>\n",
       "      <td>5.272854</td>\n",
       "      <td>1.038666e+02</td>\n",
       "    </tr>\n",
       "    <tr>\n",
       "      <th>min</th>\n",
       "      <td>-13.990000</td>\n",
       "      <td>8.000000</td>\n",
       "      <td>0.000000</td>\n",
       "      <td>0.360000</td>\n",
       "      <td>1.618461e+09</td>\n",
       "    </tr>\n",
       "    <tr>\n",
       "      <th>25%</th>\n",
       "      <td>45.365000</td>\n",
       "      <td>57.000000</td>\n",
       "      <td>14.000000</td>\n",
       "      <td>3.935000</td>\n",
       "      <td>1.618462e+09</td>\n",
       "    </tr>\n",
       "    <tr>\n",
       "      <th>50%</th>\n",
       "      <td>63.000000</td>\n",
       "      <td>73.000000</td>\n",
       "      <td>60.000000</td>\n",
       "      <td>6.580000</td>\n",
       "      <td>1.618462e+09</td>\n",
       "    </tr>\n",
       "    <tr>\n",
       "      <th>75%</th>\n",
       "      <td>77.850000</td>\n",
       "      <td>87.000000</td>\n",
       "      <td>90.000000</td>\n",
       "      <td>10.360000</td>\n",
       "      <td>1.618462e+09</td>\n",
       "    </tr>\n",
       "    <tr>\n",
       "      <th>max</th>\n",
       "      <td>101.930000</td>\n",
       "      <td>100.000000</td>\n",
       "      <td>100.000000</td>\n",
       "      <td>39.710000</td>\n",
       "      <td>1.618462e+09</td>\n",
       "    </tr>\n",
       "  </tbody>\n",
       "</table>\n",
       "</div>"
      ],
      "text/plain": [
       "         Max Temp    Humidity  Cloudiness  Wind Speed          Date\n",
       "count  563.000000  563.000000  563.000000  563.000000  5.630000e+02\n",
       "mean    60.350622   68.824156   52.753108    7.698810  1.618462e+09\n",
       "std     21.032572   22.544207   38.032031    5.272854  1.038666e+02\n",
       "min    -13.990000    8.000000    0.000000    0.360000  1.618461e+09\n",
       "25%     45.365000   57.000000   14.000000    3.935000  1.618462e+09\n",
       "50%     63.000000   73.000000   60.000000    6.580000  1.618462e+09\n",
       "75%     77.850000   87.000000   90.000000   10.360000  1.618462e+09\n",
       "max    101.930000  100.000000  100.000000   39.710000  1.618462e+09"
      ]
     },
     "execution_count": 13,
     "metadata": {},
     "output_type": "execute_result"
    }
   ],
   "source": [
    "#summarize data\n",
    "weatherdescribe=weather2.describe()\n",
    "weatherdescribe"
   ]
  },
  {
   "cell_type": "code",
   "execution_count": 14,
   "metadata": {},
   "outputs": [],
   "source": [
    "#reveiw for humidity above 100"
   ]
  },
  {
   "cell_type": "code",
   "execution_count": 15,
   "metadata": {},
   "outputs": [],
   "source": [
    "#  Get the indices of cities that have humidity over 100%.\n"
   ]
  },
  {
   "cell_type": "code",
   "execution_count": 16,
   "metadata": {},
   "outputs": [],
   "source": [
    "# Make a new DataFrame equal to the city data to drop all humidity outliers by index.\n",
    "# Passing \"inplace=False\" will make a copy of the city_data DataFrame, which we call \"clean_city_data\".\n"
   ]
  },
  {
   "cell_type": "markdown",
   "metadata": {},
   "source": [
    "## Plotting the Data\n",
    "* Use proper labeling of the plots using plot titles (including date of analysis) and axes labels.\n",
    "* Save the plotted figures as .pngs."
   ]
  },
  {
   "cell_type": "code",
   "execution_count": 17,
   "metadata": {},
   "outputs": [],
   "source": [
    "CityTemp=weather2[['Lat','Max Temp']]\n",
    "CityHumid=weather2[['Lat','Humidity']]\n",
    "CityCloud=weather2[['Lat','Cloudiness']]\n",
    "CityWind=weather2[['Lat','Wind Speed']]\n"
   ]
  },
  {
   "cell_type": "markdown",
   "metadata": {},
   "source": [
    "## Latitude vs. Temperature Plot"
   ]
  },
  {
   "cell_type": "code",
   "execution_count": 18,
   "metadata": {
    "scrolled": true
   },
   "outputs": [
    {
     "data": {
      "image/png": "[encoded data removed]",
      "text/plain": [
       "<Figure size 432x288 with 1 Axes>"
      ]
     },
     "metadata": {
      "needs_background": "light"
     },
     "output_type": "display_data"
    }
   ],
   "source": [
    "x_axis=CityTemp['Lat']\n",
    "y_axis=CityTemp['Max Temp']\n",
    "plt.scatter(x_axis, y_axis, marker=\"o\", facecolors=\"green\", edgecolors=\"black\")\n",
    "plt.grid(True)\n",
    "plt.title(\"City Latitude vs. Max Temperature\")\n",
    "plt.xlabel(\"Latitude\")\n",
    "plt.ylabel(\"Temperature (F)\")\n",
    "\n",
    "plt.show()"
   ]
  },
  {
   "cell_type": "markdown",
   "metadata": {},
   "source": [
    "## Latitude vs. Humidity Plot"
   ]
  },
  {
   "cell_type": "code",
   "execution_count": 19,
   "metadata": {},
   "outputs": [
    {
     "data": {
      "image/png": "[encoded data removed]",
      "text/plain": [
       "<Figure size 432x288 with 1 Axes>"
      ]
     },
     "metadata": {
      "needs_background": "light"
     },
     "output_type": "display_data"
    }
   ],
   "source": [
    "x_axis=CityHumid['Lat']\n",
    "y_axis=CityHumid['Humidity']\n",
    "plt.scatter(x_axis, y_axis, marker=\"o\", facecolors=\"blue\", edgecolors=\"green\")\n",
    "plt.grid(True)\n",
    "plt.title(\"City Latitude vs. Humidity\")\n",
    "plt.xlabel(\"Latitude\")\n",
    "plt.ylabel(\"Humidity\")\n",
    "\n",
    "plt.show()"
   ]
  },
  {
   "cell_type": "markdown",
   "metadata": {},
   "source": [
    "## Latitude vs. Cloudiness Plot"
   ]
  },
  {
   "cell_type": "code",
   "execution_count": 20,
   "metadata": {},
   "outputs": [
    {
     "data": {
      "image/png": "[encoded data removed]",
      "text/plain": [
       "<Figure size 432x288 with 1 Axes>"
      ]
     },
     "metadata": {
      "needs_background": "light"
     },
     "output_type": "display_data"
    }
   ],
   "source": [
    "x_axis=CityCloud['Lat']\n",
    "y_axis=CityCloud['Cloudiness']\n",
    "\n",
    "plt.scatter(x_axis, y_axis, marker=\"o\", facecolors='gray', edgecolors=\"cyan\")\n",
    "plt.grid(True)\n",
    "plt.title(\"City Latitude vs. Cloudiness\")\n",
    "plt.xlabel(\"Latitude\")\n",
    "plt.ylabel(\"Cloudiness\")\n",
    "\n",
    "plt.show()"
   ]
  },
  {
   "cell_type": "markdown",
   "metadata": {},
   "source": [
    "## Latitude vs. Wind Speed Plot"
   ]
  },
  {
   "cell_type": "code",
   "execution_count": 21,
   "metadata": {},
   "outputs": [
    {
     "data": {
      "image/png": "[encoded data removed]",
      "text/plain": [
       "<Figure size 432x288 with 1 Axes>"
      ]
     },
     "metadata": {
      "needs_background": "light"
     },
     "output_type": "display_data"
    }
   ],
   "source": [
    "x_axis=CityWind['Lat']\n",
    "y_axis=CityWind['Wind Speed']\n",
    "\n",
    "plt.scatter(x_axis, y_axis, marker=\"o\", facecolors='plum', edgecolors=\"black\")\n",
    "plt.grid(True)\n",
    "plt.title(\"City Latitude vs. Wind Speed\")\n",
    "plt.xlabel(\"Latitude\")\n",
    "plt.ylabel(\"Wind Speed\")\n",
    "\n",
    "plt.show()"
   ]
  },
  {
   "cell_type": "markdown",
   "metadata": {},
   "source": [
    "## Linear Regression"
   ]
  },
  {
   "cell_type": "code",
   "execution_count": 26,
   "metadata": {},
   "outputs": [],
   "source": [
    "Nweather1=weather2.loc[weather2['Lat']>0]\n",
    "Sweather1=weather2.loc[weather2['Lat']<0]\n"
   ]
  },
  {
   "cell_type": "code",
   "execution_count": 27,
   "metadata": {},
   "outputs": [],
   "source": [
    "Nweather = Nweather1[['Lat', 'Lng', 'Max Temp', 'Humidity', 'Cloudiness', 'Wind Speed', 'Date']].astype(float)\n",
    "Sweather = Sweather1[['Lat', 'Lng', 'Max Temp', 'Humidity', 'Cloudiness', 'Wind Speed', 'Date']].astype(float)"
   ]
  },
  {
   "cell_type": "markdown",
   "metadata": {},
   "source": [
    "####  Northern Hemisphere - Max Temp vs. Latitude Linear Regression"
   ]
  },
  {
   "cell_type": "code",
   "execution_count": 33,
   "metadata": {},
   "outputs": [
    {
     "data": {
      "image/png": "[encoded data removed]",
      "text/plain": [
       "<Figure size 432x288 with 1 Axes>"
      ]
     },
     "metadata": {
      "needs_background": "light"
     },
     "output_type": "display_data"
    }
   ],
   "source": [
    "x_values=Nweather['Lat']\n",
    "y_values=Nweather['Max Temp']\n",
    "(slope, intercept, rvalue, pvalue, stderr) = linregress(x_values, y_values)\n",
    "regress_values = x_values * slope + intercept\n",
    "line_eq = \"y = \" + str(round(slope,2)) + \"x + \" + str(round(intercept,2))\n",
    "plt.scatter(x_values,y_values)\n",
    "plt.plot(x_values,regress_values,\"r-\")\n",
    "plt.annotate(line_eq,(2,5),fontsize=15,color=\"red\")\n",
    "plt.xlabel('Latitude')\n",
    "plt.ylabel('Max Temp')\n",
    "plt.title('Maximum Tempratures by Latitude in the Northern Hemisphere')\n",
    "plt.show()\n"
   ]
  },
  {
   "cell_type": "markdown",
   "metadata": {},
   "source": [
    "Summary:\n",
    "    In the northern hemisphere there is a correlletion between latitude and temperture.\n",
    "    Closer to the equator (0 degrees) the tempreture is higher."
   ]
  },
  {
   "cell_type": "markdown",
   "metadata": {},
   "source": [
    "####  Southern Hemisphere - Max Temp vs. Latitude Linear Regression"
   ]
  },
  {
   "cell_type": "code",
   "execution_count": 34,
   "metadata": {},
   "outputs": [
    {
     "name": "stdout",
     "output_type": "stream",
     "text": [
      "The r-squared is: 0.7880571627757024\n"
     ]
    },
    {
     "data": {
      "image/png": "[encoded data removed]",
      "text/plain": [
       "<Figure size 432x288 with 1 Axes>"
      ]
     },
     "metadata": {
      "needs_background": "light"
     },
     "output_type": "display_data"
    }
   ],
   "source": [
    "x_values=Sweather['Lat']\n",
    "y_values=Sweather['Max Temp']\n",
    "print(f\"The r-squared is: {rvalue**2}\")\n",
    "(slope, intercept, rvalue, pvalue, stderr) = linregress(x_values, y_values)\n",
    "regress_values = x_values * slope + intercept\n",
    "line_eq = \"y = \" + str(round(slope,2)) + \"x + \" + str(round(intercept,2))\n",
    "plt.scatter(x_values,y_values)\n",
    "plt.plot(x_values,regress_values,\"r-\")\n",
    "plt.annotate(line_eq,(-30,50),fontsize=15,color=\"red\")\n",
    "plt.xlabel('Latitude')\n",
    "plt.ylabel('Max Temp')\n",
    "plt.title('Maximum Tempratures by Latitude in the Southern Hemisphere')\n",
    "plt.show()"
   ]
  },
  {
   "cell_type": "markdown",
   "metadata": {},
   "source": [
    "Summary: in the southern hemisphere there is a correlation between latitude and tempreture, although the correlation doesn't seem to be as strong as in the northern hemisphere.  The higher tempertures are seen closest to the equator."
   ]
  },
  {
   "cell_type": "markdown",
   "metadata": {},
   "source": [
    "####  Northern Hemisphere - Humidity (%) vs. Latitude Linear Regression"
   ]
  },
  {
   "cell_type": "code",
   "execution_count": 35,
   "metadata": {},
   "outputs": [
    {
     "name": "stdout",
     "output_type": "stream",
     "text": [
      "The r-squared is: 0.4083387414854285\n"
     ]
    },
    {
     "data": {
      "image/png": "[encoded data removed]",
      "text/plain": [
       "<Figure size 432x288 with 1 Axes>"
      ]
     },
     "metadata": {
      "needs_background": "light"
     },
     "output_type": "display_data"
    }
   ],
   "source": [
    "x_values=Nweather['Lat']\n",
    "y_values=Nweather['Humidity']\n",
    "print(f\"The r-squared is: {rvalue**2}\")\n",
    "(slope, intercept, rvalue, pvalue, stderr) = linregress(x_values, y_values)\n",
    "regress_values = x_values * slope + intercept\n",
    "line_eq = \"y = \" + str(round(slope,2)) + \"x + \" + str(round(intercept,2))\n",
    "plt.scatter(x_values,y_values)\n",
    "plt.plot(x_values,regress_values,\"r-\")\n",
    "plt.annotate(line_eq,(40,5),fontsize=15,color=\"red\")\n",
    "plt.xlabel('Latitude')\n",
    "plt.ylabel('Humidity')\n",
    "plt.title('Humidity by Latitude in the Northern Hemisphere')\n",
    "plt.show()"
   ]
  },
  {
   "cell_type": "markdown",
   "metadata": {},
   "source": [
    "####  Southern Hemisphere - Humidity (%) vs. Latitude Linear Regression"
   ]
  },
  {
   "cell_type": "code",
   "execution_count": 36,
   "metadata": {},
   "outputs": [
    {
     "name": "stdout",
     "output_type": "stream",
     "text": [
      "The r-squared is: 0.016042630346352907\n"
     ]
    },
    {
     "data": {
      "image/png": "[encoded data removed]",
      "text/plain": [
       "<Figure size 432x288 with 1 Axes>"
      ]
     },
     "metadata": {
      "needs_background": "light"
     },
     "output_type": "display_data"
    }
   ],
   "source": [
    "x_values=Sweather['Lat']\n",
    "y_values=Sweather['Humidity']\n",
    "print(f\"The r-squared is: {rvalue**2}\")\n",
    "(slope, intercept, rvalue, pvalue, stderr) = linregress(x_values, y_values)\n",
    "regress_values = x_values * slope + intercept\n",
    "line_eq = \"y = \" + str(round(slope,2)) + \"x + \" + str(round(intercept,2))\n",
    "plt.scatter(x_values,y_values)\n",
    "plt.plot(x_values,regress_values,\"r-\")\n",
    "plt.annotate(line_eq,(-50,20),fontsize=15,color=\"red\")\n",
    "plt.xlabel('Latitude')\n",
    "plt.ylabel('Humidity')\n",
    "plt.title('Humidity by Latitude in the Southern Hemisphere')\n",
    "plt.show()"
   ]
  },
  {
   "cell_type": "markdown",
   "metadata": {},
   "source": [
    "There does not seem to be a strong correlation between humidity and latitude in either the northern or southern hemisphere."
   ]
  },
  {
   "cell_type": "markdown",
   "metadata": {},
   "source": [
    "####  Northern Hemisphere - Cloudiness (%) vs. Latitude Linear Regression"
   ]
  },
  {
   "cell_type": "code",
   "execution_count": 37,
   "metadata": {},
   "outputs": [
    {
     "name": "stdout",
     "output_type": "stream",
     "text": [
      "The r-squared is: 0.013051374961406119\n"
     ]
    },
    {
     "data": {
      "image/png": "[encoded data removed]",
      "text/plain": [
       "<Figure size 432x288 with 1 Axes>"
      ]
     },
     "metadata": {
      "needs_background": "light"
     },
     "output_type": "display_data"
    }
   ],
   "source": [
    "x_values=Nweather['Lat']\n",
    "y_values=Nweather['Cloudiness']\n",
    "print(f\"The r-squared is: {rvalue**2}\")\n",
    "(slope, intercept, rvalue, pvalue, stderr) = linregress(x_values, y_values)\n",
    "regress_values = x_values * slope + intercept\n",
    "line_eq = \"y = \" + str(round(slope,2)) + \"x + \" + str(round(intercept,2))\n",
    "plt.scatter(x_values,y_values)\n",
    "plt.plot(x_values,regress_values,\"r-\")\n",
    "plt.annotate(line_eq,(2,55),fontsize=15,color=\"red\")\n",
    "plt.xlabel('Latitude')\n",
    "plt.ylabel('Cloudiness')\n",
    "plt.title('Cloudiness by Latitude in the Northern Hemisphere')\n",
    "plt.show()"
   ]
  },
  {
   "cell_type": "markdown",
   "metadata": {},
   "source": [
    "####  Southern Hemisphere - Cloudiness (%) vs. Latitude Linear Regression"
   ]
  },
  {
   "cell_type": "code",
   "execution_count": 38,
   "metadata": {},
   "outputs": [
    {
     "name": "stdout",
     "output_type": "stream",
     "text": [
      "The r-squared is: 0.008093672081969084\n"
     ]
    },
    {
     "data": {
      "image/png": "[encoded data removed]",
      "text/plain": [
       "<Figure size 432x288 with 1 Axes>"
      ]
     },
     "metadata": {
      "needs_background": "light"
     },
     "output_type": "display_data"
    }
   ],
   "source": [
    "x_values=Sweather['Lat']\n",
    "y_values=Sweather['Cloudiness']\n",
    "print(f\"The r-squared is: {rvalue**2}\")\n",
    "(slope, intercept, rvalue, pvalue, stderr) = linregress(x_values, y_values)\n",
    "regress_values = x_values * slope + intercept\n",
    "line_eq = \"y = \" + str(round(slope,2)) + \"x + \" + str(round(intercept,2))\n",
    "plt.scatter(x_values,y_values)\n",
    "plt.plot(x_values,regress_values,\"r-\")\n",
    "plt.annotate(line_eq,(-50, 20),fontsize=15,color=\"red\")\n",
    "plt.xlabel('Latitude')\n",
    "plt.ylabel('Cloudiness')\n",
    "plt.title('Cloudiness by Latitude in the Northern Hemisphere')\n",
    "plt.show()"
   ]
  },
  {
   "cell_type": "markdown",
   "metadata": {},
   "source": [
    "there does not seem to be a correlation between latitude and cloudiness"
   ]
  },
  {
   "cell_type": "markdown",
   "metadata": {},
   "source": [
    "####  Northern Hemisphere - Wind Speed (mph) vs. Latitude Linear Regression"
   ]
  },
  {
   "cell_type": "code",
   "execution_count": 39,
   "metadata": {},
   "outputs": [
    {
     "name": "stdout",
     "output_type": "stream",
     "text": [
      "The r-squared is: 0.16024197740725463\n"
     ]
    },
    {
     "data": {
      "image/png": "[encoded data removed]",
      "text/plain": [
       "<Figure size 432x288 with 1 Axes>"
      ]
     },
     "metadata": {
      "needs_background": "light"
     },
     "output_type": "display_data"
    }
   ],
   "source": [
    "x_values=Nweather['Lat']\n",
    "y_values=Nweather['Wind Speed']\n",
    "print(f\"The r-squared is: {rvalue**2}\")\n",
    "(slope, intercept, rvalue, pvalue, stderr) = linregress(x_values, y_values)\n",
    "regress_values = x_values * slope + intercept\n",
    "line_eq = \"y = \" + str(round(slope,2)) + \"x + \" + str(round(intercept,2))\n",
    "plt.scatter(x_values,y_values)\n",
    "plt.plot(x_values,regress_values,\"r-\")\n",
    "plt.annotate(line_eq,(2,25),fontsize=15,color=\"red\")\n",
    "plt.xlabel('Latitude')\n",
    "plt.ylabel('Wind Speed')\n",
    "plt.title('Wind Speed by Latitude in the Northern Hemisphere')\n",
    "plt.show()"
   ]
  },
  {
   "cell_type": "markdown",
   "metadata": {},
   "source": [
    "####  Southern Hemisphere - Wind Speed (mph) vs. Latitude Linear Regression"
   ]
  },
  {
   "cell_type": "code",
   "execution_count": 40,
   "metadata": {},
   "outputs": [
    {
     "name": "stdout",
     "output_type": "stream",
     "text": [
      "The r-squared is: 0.02991526156094948\n"
     ]
    },
    {
     "data": {
      "image/png": "[encoded data removed]",
      "text/plain": [
       "<Figure size 432x288 with 1 Axes>"
      ]
     },
     "metadata": {
      "needs_background": "light"
     },
     "output_type": "display_data"
    }
   ],
   "source": [
    "x_values=Sweather['Lat']\n",
    "y_values=Sweather['Wind Speed']\n",
    "print(f\"The r-squared is: {rvalue**2}\")\n",
    "(slope, intercept, rvalue, pvalue, stderr) = linregress(x_values, y_values)\n",
    "regress_values = x_values * slope + intercept\n",
    "line_eq = \"y = \" + str(round(slope,2)) + \"x + \" + str(round(intercept,2))\n",
    "plt.scatter(x_values,y_values)\n",
    "plt.plot(x_values,regress_values,\"r-\")\n",
    "plt.annotate(line_eq,(-50,20),fontsize=15,color=\"red\")\n",
    "plt.xlabel('Latitude')\n",
    "plt.ylabel('Wind Speed')\n",
    "plt.title('Wind Speed by Latitude in the Southern Hemisphere')\n",
    "plt.show()"
   ]
  },
  {
   "cell_type": "code",
   "execution_count": null,
   "metadata": {},
   "outputs": [],
   "source": []
  }
 ],
 "metadata": {
  "anaconda-cloud": {},
  "kernel_info": {
   "name": "python3"
  },
  "kernelspec": {
   "display_name": "Python 3",
   "language": "python",
   "name": "python3"
  },
  "language_info": {
   "codemirror_mode": {
    "name": "ipython",
    "version": 3
   },
   "file_extension": ".py",
   "mimetype": "text/x-python",
   "name": "python",
   "nbconvert_exporter": "python",
   "pygments_lexer": "ipython3",
   "version": "3.8.5"
  },
  "latex_envs": {
   "LaTeX_envs_menu_present": true,
   "autoclose": false,
   "autocomplete": true,
   "bibliofile": "biblio.bib",
   "cite_by": "apalike",
   "current_citInitial": 1,
   "eqLabelWithNumbers": true,
   "eqNumInitial": 1,
   "hotkeys": {
    "equation": "Ctrl-E",
    "itemize": "Ctrl-I"
   },
   "labels_anchors": false,
   "latex_user_defs": false,
   "report_style_numbering": false,
   "user_envs_cfg": false
  },
  "nteract": {
   "version": "0.12.3"
  }
 },
 "nbformat": 4,
 "nbformat_minor": 2
}
