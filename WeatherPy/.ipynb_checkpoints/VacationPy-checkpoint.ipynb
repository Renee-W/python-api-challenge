{
 "cells": [
  {
   "cell_type": "markdown",
   "metadata": {},
   "source": [
    "# VacationPy\n",
    "----\n",
    "\n",
    "#### Note\n",
    "* Keep an eye on your API usage. Use https://developers.google.com/maps/reporting/gmp-reporting as reference for how to monitor your usage and billing.\n",
    "\n",
    "* Instructions have been included for each segment. You do not have to follow them exactly, but they are included to help you think through the steps."
   ]
  },
  {
   "cell_type": "code",
   "execution_count": 1,
   "metadata": {},
   "outputs": [],
   "source": [
    "# Dependencies and Setup\n",
    "import matplotlib.pyplot as plt\n",
    "import pandas as pd\n",
    "import numpy as np\n",
    "import requests\n",
    "import gmaps\n",
    "import os\n",
    "\n",
    "# Import API key\n",
    "from api_keys import g_key"
   ]
  },
  {
   "cell_type": "markdown",
   "metadata": {},
   "source": [
    "### Store Part I results into DataFrame\n",
    "* Load the csv exported in Part I to a DataFrame"
   ]
  },
  {
   "cell_type": "code",
   "execution_count": 2,
   "metadata": {},
   "outputs": [
    {
     "data": {
      "text/html": [
       "<div>\n",
       "<style scoped>\n",
       "    .dataframe tbody tr th:only-of-type {\n",
       "        vertical-align: middle;\n",
       "    }\n",
       "\n",
       "    .dataframe tbody tr th {\n",
       "        vertical-align: top;\n",
       "    }\n",
       "\n",
       "    .dataframe thead th {\n",
       "        text-align: right;\n",
       "    }\n",
       "</style>\n",
       "<table border=\"1\" class=\"dataframe\">\n",
       "  <thead>\n",
       "    <tr style=\"text-align: right;\">\n",
       "      <th></th>\n",
       "      <th>City</th>\n",
       "      <th>Lat</th>\n",
       "      <th>Lng</th>\n",
       "      <th>Max Temp</th>\n",
       "      <th>Humidity</th>\n",
       "      <th>Cloudiness</th>\n",
       "      <th>Wind Speed</th>\n",
       "      <th>Country</th>\n",
       "      <th>Date</th>\n",
       "    </tr>\n",
       "  </thead>\n",
       "  <tbody>\n",
       "    <tr>\n",
       "      <th>0</th>\n",
       "      <td>biak</td>\n",
       "      <td>-0.9131</td>\n",
       "      <td>122.8766</td>\n",
       "      <td>80.67</td>\n",
       "      <td>76</td>\n",
       "      <td>96</td>\n",
       "      <td>3.22</td>\n",
       "      <td>ID</td>\n",
       "      <td>1618461958</td>\n",
       "    </tr>\n",
       "    <tr>\n",
       "      <th>1</th>\n",
       "      <td>shimoda</td>\n",
       "      <td>34.6667</td>\n",
       "      <td>138.9500</td>\n",
       "      <td>55.40</td>\n",
       "      <td>47</td>\n",
       "      <td>75</td>\n",
       "      <td>9.22</td>\n",
       "      <td>JP</td>\n",
       "      <td>1618461958</td>\n",
       "    </tr>\n",
       "    <tr>\n",
       "      <th>2</th>\n",
       "      <td>rikitea</td>\n",
       "      <td>-23.1203</td>\n",
       "      <td>-134.9692</td>\n",
       "      <td>78.57</td>\n",
       "      <td>72</td>\n",
       "      <td>13</td>\n",
       "      <td>8.68</td>\n",
       "      <td>PF</td>\n",
       "      <td>1618461805</td>\n",
       "    </tr>\n",
       "    <tr>\n",
       "      <th>3</th>\n",
       "      <td>tromso</td>\n",
       "      <td>69.6496</td>\n",
       "      <td>18.9570</td>\n",
       "      <td>33.80</td>\n",
       "      <td>93</td>\n",
       "      <td>90</td>\n",
       "      <td>17.27</td>\n",
       "      <td>NO</td>\n",
       "      <td>1618461959</td>\n",
       "    </tr>\n",
       "    <tr>\n",
       "      <th>4</th>\n",
       "      <td>port blair</td>\n",
       "      <td>11.6667</td>\n",
       "      <td>92.7500</td>\n",
       "      <td>85.68</td>\n",
       "      <td>66</td>\n",
       "      <td>100</td>\n",
       "      <td>4.97</td>\n",
       "      <td>IN</td>\n",
       "      <td>1618461904</td>\n",
       "    </tr>\n",
       "  </tbody>\n",
       "</table>\n",
       "</div>"
      ],
      "text/plain": [
       "         City      Lat       Lng  Max Temp  Humidity  Cloudiness  Wind Speed  \\\n",
       "0        biak  -0.9131  122.8766     80.67        76          96        3.22   \n",
       "1     shimoda  34.6667  138.9500     55.40        47          75        9.22   \n",
       "2     rikitea -23.1203 -134.9692     78.57        72          13        8.68   \n",
       "3      tromso  69.6496   18.9570     33.80        93          90       17.27   \n",
       "4  port blair  11.6667   92.7500     85.68        66         100        4.97   \n",
       "\n",
       "  Country        Date  \n",
       "0      ID  1618461958  \n",
       "1      JP  1618461958  \n",
       "2      PF  1618461805  \n",
       "3      NO  1618461959  \n",
       "4      IN  1618461904  "
      ]
     },
     "execution_count": 2,
     "metadata": {},
     "output_type": "execute_result"
    }
   ],
   "source": [
    "#load csv\n",
    "city_data='output/cities.csv'\n",
    "#read csv\n",
    "city=pd.read_csv(city_data)\n",
    "city.head()\n"
   ]
  },
  {
   "cell_type": "markdown",
   "metadata": {},
   "source": [
    "### Humidity Heatmap\n",
    "* Configure gmaps.\n",
    "* Use the Lat and Lng as locations and Humidity as the weight.\n",
    "* Add Heatmap layer to map."
   ]
  },
  {
   "cell_type": "code",
   "execution_count": 3,
   "metadata": {},
   "outputs": [],
   "source": [
    "#configure gmaps with API key\n",
    "gmaps.configure(api_key=g_key)"
   ]
  },
  {
   "cell_type": "code",
   "execution_count": 4,
   "metadata": {},
   "outputs": [],
   "source": [
    "#store Lat and Lng into locations\n",
    "citytrim=city.dropna()\n",
    "locations=citytrim[['Lat', 'Lng']].astype(float)\n",
    "humidity=citytrim['Humidity'].astype(float)"
   ]
  },
  {
   "cell_type": "markdown",
   "metadata": {},
   "source": [
    "### Create new DataFrame fitting weather criteria\n",
    "* Narrow down the cities to fit weather conditions.\n",
    "* Drop any rows will null values."
   ]
  },
  {
   "cell_type": "code",
   "execution_count": 5,
   "metadata": {},
   "outputs": [
    {
     "data": {
      "application/vnd.jupyter.widget-view+json": {
       "model_id": "3dc5851ec1b441a7aa2a17f5eb56cbc8",
       "version_major": 2,
       "version_minor": 0
      },
      "text/plain": [
       "Figure(layout=FigureLayout(height='420px'))"
      ]
     },
     "metadata": {},
     "output_type": "display_data"
    }
   ],
   "source": [
    "#create heatmap layer\n",
    "fig = gmaps.figure()\n",
    "\n",
    "heat_layer = gmaps.heatmap_layer(locations, weights=humidity, \n",
    "                                 dissipating=False, max_intensity=100,\n",
    "                                 point_radius = 1)\n",
    "\n",
    "fig.add_layer(heat_layer)\n",
    "\n",
    "fig"
   ]
  },
  {
   "cell_type": "markdown",
   "metadata": {},
   "source": [
    "### Hotel Map\n",
    "* Store into variable named `hotel_df`.\n",
    "* Add a \"Hotel Name\" column to the DataFrame.\n",
    "* Set parameters to search for hotels with 5000 meters.\n",
    "* Hit the Google Places API for each city's coordinates.\n",
    "* Store the first Hotel result into the DataFrame.\n",
    "* Plot markers on top of the heatmap."
   ]
  },
  {
   "cell_type": "code",
   "execution_count": 6,
   "metadata": {},
   "outputs": [
    {
     "data": {
      "text/html": [
       "<div>\n",
       "<style scoped>\n",
       "    .dataframe tbody tr th:only-of-type {\n",
       "        vertical-align: middle;\n",
       "    }\n",
       "\n",
       "    .dataframe tbody tr th {\n",
       "        vertical-align: top;\n",
       "    }\n",
       "\n",
       "    .dataframe thead th {\n",
       "        text-align: right;\n",
       "    }\n",
       "</style>\n",
       "<table border=\"1\" class=\"dataframe\">\n",
       "  <thead>\n",
       "    <tr style=\"text-align: right;\">\n",
       "      <th></th>\n",
       "      <th>City</th>\n",
       "      <th>Lat</th>\n",
       "      <th>Lng</th>\n",
       "      <th>Max Temp</th>\n",
       "      <th>Humidity</th>\n",
       "      <th>Cloudiness</th>\n",
       "      <th>Wind Speed</th>\n",
       "      <th>Country</th>\n",
       "      <th>Date</th>\n",
       "    </tr>\n",
       "  </thead>\n",
       "  <tbody>\n",
       "    <tr>\n",
       "      <th>26</th>\n",
       "      <td>tecoanapa</td>\n",
       "      <td>18.4273</td>\n",
       "      <td>-68.9728</td>\n",
       "      <td>69.19</td>\n",
       "      <td>75</td>\n",
       "      <td>3</td>\n",
       "      <td>8.28</td>\n",
       "      <td>DO</td>\n",
       "      <td>1618461924</td>\n",
       "    </tr>\n",
       "    <tr>\n",
       "      <th>33</th>\n",
       "      <td>upernavik</td>\n",
       "      <td>-21.2078</td>\n",
       "      <td>-159.7750</td>\n",
       "      <td>80.60</td>\n",
       "      <td>69</td>\n",
       "      <td>3</td>\n",
       "      <td>6.91</td>\n",
       "      <td>CK</td>\n",
       "      <td>1618461970</td>\n",
       "    </tr>\n",
       "    <tr>\n",
       "      <th>42</th>\n",
       "      <td>kulhudhuffushi</td>\n",
       "      <td>-29.6643</td>\n",
       "      <td>17.8865</td>\n",
       "      <td>70.50</td>\n",
       "      <td>25</td>\n",
       "      <td>1</td>\n",
       "      <td>6.40</td>\n",
       "      <td>ZA</td>\n",
       "      <td>1618461974</td>\n",
       "    </tr>\n",
       "    <tr>\n",
       "      <th>45</th>\n",
       "      <td>mahebourg</td>\n",
       "      <td>-24.7117</td>\n",
       "      <td>33.8828</td>\n",
       "      <td>66.92</td>\n",
       "      <td>86</td>\n",
       "      <td>0</td>\n",
       "      <td>1.14</td>\n",
       "      <td>MZ</td>\n",
       "      <td>1618461975</td>\n",
       "    </tr>\n",
       "    <tr>\n",
       "      <th>71</th>\n",
       "      <td>brae</td>\n",
       "      <td>-32.7167</td>\n",
       "      <td>152.1500</td>\n",
       "      <td>78.01</td>\n",
       "      <td>50</td>\n",
       "      <td>0</td>\n",
       "      <td>8.05</td>\n",
       "      <td>AU</td>\n",
       "      <td>1618461984</td>\n",
       "    </tr>\n",
       "  </tbody>\n",
       "</table>\n",
       "</div>"
      ],
      "text/plain": [
       "              City      Lat       Lng  Max Temp  Humidity  Cloudiness  \\\n",
       "26       tecoanapa  18.4273  -68.9728     69.19        75           3   \n",
       "33       upernavik -21.2078 -159.7750     80.60        69           3   \n",
       "42  kulhudhuffushi -29.6643   17.8865     70.50        25           1   \n",
       "45       mahebourg -24.7117   33.8828     66.92        86           0   \n",
       "71            brae -32.7167  152.1500     78.01        50           0   \n",
       "\n",
       "    Wind Speed Country        Date  \n",
       "26        8.28      DO  1618461924  \n",
       "33        6.91      CK  1618461970  \n",
       "42        6.40      ZA  1618461974  \n",
       "45        1.14      MZ  1618461975  \n",
       "71        8.05      AU  1618461984  "
      ]
     },
     "execution_count": 6,
     "metadata": {},
     "output_type": "execute_result"
    }
   ],
   "source": [
    "vaccity1=citytrim[(citytrim['Max Temp']>=65)&(citytrim['Max Temp']<=85)]\n",
    "vaccity2=vaccity1[(vaccity1['Wind Speed']<=10)]\n",
    "vaccity=vaccity2[(vaccity2['Cloudiness']<10)]\n",
    "vaccity.head()"
   ]
  },
  {
   "cell_type": "code",
   "execution_count": 7,
   "metadata": {},
   "outputs": [],
   "source": [
    "hotel_df=vaccity[['City', 'Country', 'Lat', 'Lng']].copy()\n",
    "hotel_df[\"Hotel Name\"] = \"\""
   ]
  },
  {
   "cell_type": "code",
   "execution_count": 8,
   "metadata": {},
   "outputs": [
    {
     "name": "stdout",
     "output_type": "stream",
     "text": [
      "found hotel Club Deportivo Chola\n",
      "found hotel Ministry of Justice\n",
      "found hotel Checkers LiquorShop Springbok Plaza\n",
      "found hotel Estação Postal Correios de Manjacaze\n",
      "found hotel Kayak Tour Departure Point\n",
      "found hotel Pocinho\n",
      "found hotel El Guarichi\n",
      "found hotel Centre Communal d'Action Sociale\n",
      "found hotel مسجد زغره\n",
      "found hotel radio popularisima fm 100.3\n",
      "found hotel Olive Tans Batemans Bay\n",
      "found hotel Garage\n",
      "found hotel Plenty Foods\n",
      "found hotel Orla de Barão de Melgaço - Rio Cuiabá\n",
      "found hotel campo de futbol\n",
      "found hotel Escritorio de Advocacia\n",
      "found hotel Témoins de Jéhovah\n",
      "found hotel Sunny™ Mini Mart\n",
      "found hotel Coco lak\n",
      "found hotel J Argent\n",
      "found hotel الجامع الكبير\n",
      "found hotel Jindabyne Rd opp Malacoota Way\n",
      "found hotel Policlinico Baragua\n",
      "found hotel Cowboy Fellowship of San Patricio County\n",
      "found hotel Betioky- Sud Health Centre\n",
      "found hotel Área de Proteção Ambiental da Baleia Franca\n",
      "found hotel Mohamed Saleh Harb Secondary Mechanical School\n",
      "found hotel World Class Homes Mexico - Puertoescondidorealestate.net\n"
     ]
    },
    {
     "data": {
      "text/html": [
       "<div>\n",
       "<style scoped>\n",
       "    .dataframe tbody tr th:only-of-type {\n",
       "        vertical-align: middle;\n",
       "    }\n",
       "\n",
       "    .dataframe tbody tr th {\n",
       "        vertical-align: top;\n",
       "    }\n",
       "\n",
       "    .dataframe thead th {\n",
       "        text-align: right;\n",
       "    }\n",
       "</style>\n",
       "<table border=\"1\" class=\"dataframe\">\n",
       "  <thead>\n",
       "    <tr style=\"text-align: right;\">\n",
       "      <th></th>\n",
       "      <th>City</th>\n",
       "      <th>Country</th>\n",
       "      <th>Lat</th>\n",
       "      <th>Lng</th>\n",
       "      <th>Hotel Name</th>\n",
       "    </tr>\n",
       "  </thead>\n",
       "  <tbody>\n",
       "    <tr>\n",
       "      <th>26</th>\n",
       "      <td>tecoanapa</td>\n",
       "      <td>DO</td>\n",
       "      <td>18.4273</td>\n",
       "      <td>-68.9728</td>\n",
       "      <td>Club Deportivo Chola</td>\n",
       "    </tr>\n",
       "    <tr>\n",
       "      <th>33</th>\n",
       "      <td>upernavik</td>\n",
       "      <td>CK</td>\n",
       "      <td>-21.2078</td>\n",
       "      <td>-159.7750</td>\n",
       "      <td>Ministry of Justice</td>\n",
       "    </tr>\n",
       "    <tr>\n",
       "      <th>42</th>\n",
       "      <td>kulhudhuffushi</td>\n",
       "      <td>ZA</td>\n",
       "      <td>-29.6643</td>\n",
       "      <td>17.8865</td>\n",
       "      <td>Checkers LiquorShop Springbok Plaza</td>\n",
       "    </tr>\n",
       "    <tr>\n",
       "      <th>45</th>\n",
       "      <td>mahebourg</td>\n",
       "      <td>MZ</td>\n",
       "      <td>-24.7117</td>\n",
       "      <td>33.8828</td>\n",
       "      <td>Estação Postal Correios de Manjacaze</td>\n",
       "    </tr>\n",
       "    <tr>\n",
       "      <th>71</th>\n",
       "      <td>brae</td>\n",
       "      <td>AU</td>\n",
       "      <td>-32.7167</td>\n",
       "      <td>152.1500</td>\n",
       "      <td>Kayak Tour Departure Point</td>\n",
       "    </tr>\n",
       "  </tbody>\n",
       "</table>\n",
       "</div>"
      ],
      "text/plain": [
       "              City Country      Lat       Lng  \\\n",
       "26       tecoanapa      DO  18.4273  -68.9728   \n",
       "33       upernavik      CK -21.2078 -159.7750   \n",
       "42  kulhudhuffushi      ZA -29.6643   17.8865   \n",
       "45       mahebourg      MZ -24.7117   33.8828   \n",
       "71            brae      AU -32.7167  152.1500   \n",
       "\n",
       "                              Hotel Name  \n",
       "26                  Club Deportivo Chola  \n",
       "33                   Ministry of Justice  \n",
       "42   Checkers LiquorShop Springbok Plaza  \n",
       "45  Estação Postal Correios de Manjacaze  \n",
       "71            Kayak Tour Departure Point  "
      ]
     },
     "execution_count": 8,
     "metadata": {},
     "output_type": "execute_result"
    }
   ],
   "source": [
    "#find the cloest hotel\n",
    "base_url = \"https://maps.googleapis.com/maps/api/place/nearbysearch/json\"\n",
    "locations=hotel_df[[\"Lat\", \"Lng\"]].astype(float)\n",
    "params = {\"rankby\": \"distance\",\n",
    "    \"type\": \"hotel\",\n",
    "    \"key\": g_key,\n",
    "}\n",
    "for index, x in hotel_df.iterrows():\n",
    "    params[\"location\"]=f\"{x['Lat']},{x['Lng']}\"\n",
    "    response = requests.get(base_url, params=params).json()\n",
    "    results = response['results']\n",
    "    \n",
    "    try:\n",
    "        print(f\"found hotel {results[0]['name']}\")\n",
    "        hotel_df.loc[index,\"Hotel Name\"]=results[0]['name']\n",
    "        \n",
    "    except (KeyError, IndexError):\n",
    "        print(\"Missing field/result... skipping.\")\n",
    "        \n",
    "hotel_df.head()"
   ]
  },
  {
   "cell_type": "code",
   "execution_count": 9,
   "metadata": {},
   "outputs": [],
   "source": [
    "# NOTE: Do not change any of the code in this cell\n",
    "\n",
    "# Using the template add the hotel marks to the heatmap\n",
    "info_box_template = \"\"\"\n",
    "<dl>\n",
    "<dt>Name</dt><dd>{Hotel Name}</dd>\n",
    "<dt>City</dt><dd>{City}</dd>\n",
    "<dt>Country</dt><dd>{Country}</dd>\n",
    "</dl>\n",
    "\"\"\"\n",
    "# Store the DataFrame Row\n",
    "# NOTE: be sure to update with your DataFrame name\n",
    "hotel_info = [info_box_template.format(**row) for index, row in hotel_df.iterrows()]\n",
    "locations = hotel_df[[\"Lat\", \"Lng\"]]"
   ]
  },
  {
   "cell_type": "code",
   "execution_count": 10,
   "metadata": {},
   "outputs": [
    {
     "data": {
      "application/vnd.jupyter.widget-view+json": {
       "model_id": "3dc5851ec1b441a7aa2a17f5eb56cbc8",
       "version_major": 2,
       "version_minor": 0
      },
      "text/plain": [
       "Figure(layout=FigureLayout(height='420px'))"
      ]
     },
     "metadata": {},
     "output_type": "display_data"
    }
   ],
   "source": [
    "# Add marker layer ontop of heat map\n",
    "markers = gmaps.marker_layer(locations,info_box_content=hotel_info)\n",
    "# Add the layer to the map\n",
    "fig.add_layer(markers)\n",
    "fig\n",
    "# Display figure\n"
   ]
  },
  {
   "cell_type": "markdown",
   "metadata": {},
   "source": [
    "It looks like there are lots of wonderful places I can visit!"
   ]
  },
  {
   "cell_type": "code",
   "execution_count": null,
   "metadata": {},
   "outputs": [],
   "source": []
  }
 ],
 "metadata": {
  "kernelspec": {
   "display_name": "Python 3",
   "language": "python",
   "name": "python3"
  },
  "language_info": {
   "codemirror_mode": {
    "name": "ipython",
    "version": 3
   },
   "file_extension": ".py",
   "mimetype": "text/x-python",
   "name": "python",
   "nbconvert_exporter": "python",
   "pygments_lexer": "ipython3",
   "version": "3.8.5"
  },
  "latex_envs": {
   "LaTeX_envs_menu_present": true,
   "autoclose": false,
   "autocomplete": true,
   "bibliofile": "biblio.bib",
   "cite_by": "apalike",
   "current_citInitial": 1,
   "eqLabelWithNumbers": true,
   "eqNumInitial": 1,
   "hotkeys": {
    "equation": "Ctrl-E",
    "itemize": "Ctrl-I"
   },
   "labels_anchors": false,
   "latex_user_defs": false,
   "report_style_numbering": false,
   "user_envs_cfg": false
  }
 },
 "nbformat": 4,
 "nbformat_minor": 4
}
