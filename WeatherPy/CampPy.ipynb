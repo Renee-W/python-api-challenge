{
 "cells": [
  {
   "cell_type": "markdown",
   "metadata": {},
   "source": [
    "# VacationPy\n",
    "----\n",
    "\n",
    "#### Note\n",
    "* Keep an eye on your API usage. Use https://developers.google.com/maps/reporting/gmp-reporting as reference for how to monitor your usage and billing.\n",
    "\n",
    "* Instructions have been included for each segment. You do not have to follow them exactly, but they are included to help you think through the steps."
   ]
  },
  {
   "cell_type": "code",
   "execution_count": 1,
   "metadata": {},
   "outputs": [],
   "source": [
    "# Dependencies and Setup\n",
    "import matplotlib.pyplot as plt\n",
    "import pandas as pd\n",
    "import numpy as np\n",
    "import requests\n",
    "import gmaps\n",
    "import os\n",
    "\n",
    "# Import API key\n",
    "from api_keys import g_key"
   ]
  },
  {
   "cell_type": "markdown",
   "metadata": {},
   "source": [
    "### Store Part I results into DataFrame\n",
    "* Load the csv exported in Part I to a DataFrame"
   ]
  },
  {
   "cell_type": "code",
   "execution_count": 2,
   "metadata": {},
   "outputs": [
    {
     "data": {
      "text/html": [
       "<div>\n",
       "<style scoped>\n",
       "    .dataframe tbody tr th:only-of-type {\n",
       "        vertical-align: middle;\n",
       "    }\n",
       "\n",
       "    .dataframe tbody tr th {\n",
       "        vertical-align: top;\n",
       "    }\n",
       "\n",
       "    .dataframe thead th {\n",
       "        text-align: right;\n",
       "    }\n",
       "</style>\n",
       "<table border=\"1\" class=\"dataframe\">\n",
       "  <thead>\n",
       "    <tr style=\"text-align: right;\">\n",
       "      <th></th>\n",
       "      <th>City</th>\n",
       "      <th>Lat</th>\n",
       "      <th>Lng</th>\n",
       "      <th>Max Temp</th>\n",
       "      <th>Humidity</th>\n",
       "      <th>Cloudiness</th>\n",
       "      <th>Wind Speed</th>\n",
       "      <th>Country</th>\n",
       "      <th>Date</th>\n",
       "    </tr>\n",
       "  </thead>\n",
       "  <tbody>\n",
       "    <tr>\n",
       "      <th>0</th>\n",
       "      <td>biak</td>\n",
       "      <td>-0.9131</td>\n",
       "      <td>122.8766</td>\n",
       "      <td>80.67</td>\n",
       "      <td>76</td>\n",
       "      <td>96</td>\n",
       "      <td>3.22</td>\n",
       "      <td>ID</td>\n",
       "      <td>1618461958</td>\n",
       "    </tr>\n",
       "    <tr>\n",
       "      <th>1</th>\n",
       "      <td>shimoda</td>\n",
       "      <td>34.6667</td>\n",
       "      <td>138.9500</td>\n",
       "      <td>55.40</td>\n",
       "      <td>47</td>\n",
       "      <td>75</td>\n",
       "      <td>9.22</td>\n",
       "      <td>JP</td>\n",
       "      <td>1618461958</td>\n",
       "    </tr>\n",
       "    <tr>\n",
       "      <th>2</th>\n",
       "      <td>rikitea</td>\n",
       "      <td>-23.1203</td>\n",
       "      <td>-134.9692</td>\n",
       "      <td>78.57</td>\n",
       "      <td>72</td>\n",
       "      <td>13</td>\n",
       "      <td>8.68</td>\n",
       "      <td>PF</td>\n",
       "      <td>1618461805</td>\n",
       "    </tr>\n",
       "    <tr>\n",
       "      <th>3</th>\n",
       "      <td>tromso</td>\n",
       "      <td>69.6496</td>\n",
       "      <td>18.9570</td>\n",
       "      <td>33.80</td>\n",
       "      <td>93</td>\n",
       "      <td>90</td>\n",
       "      <td>17.27</td>\n",
       "      <td>NO</td>\n",
       "      <td>1618461959</td>\n",
       "    </tr>\n",
       "    <tr>\n",
       "      <th>4</th>\n",
       "      <td>port blair</td>\n",
       "      <td>11.6667</td>\n",
       "      <td>92.7500</td>\n",
       "      <td>85.68</td>\n",
       "      <td>66</td>\n",
       "      <td>100</td>\n",
       "      <td>4.97</td>\n",
       "      <td>IN</td>\n",
       "      <td>1618461904</td>\n",
       "    </tr>\n",
       "  </tbody>\n",
       "</table>\n",
       "</div>"
      ],
      "text/plain": [
       "         City      Lat       Lng  Max Temp  Humidity  Cloudiness  Wind Speed  \\\n",
       "0        biak  -0.9131  122.8766     80.67        76          96        3.22   \n",
       "1     shimoda  34.6667  138.9500     55.40        47          75        9.22   \n",
       "2     rikitea -23.1203 -134.9692     78.57        72          13        8.68   \n",
       "3      tromso  69.6496   18.9570     33.80        93          90       17.27   \n",
       "4  port blair  11.6667   92.7500     85.68        66         100        4.97   \n",
       "\n",
       "  Country        Date  \n",
       "0      ID  1618461958  \n",
       "1      JP  1618461958  \n",
       "2      PF  1618461805  \n",
       "3      NO  1618461959  \n",
       "4      IN  1618461904  "
      ]
     },
     "execution_count": 2,
     "metadata": {},
     "output_type": "execute_result"
    }
   ],
   "source": [
    "#load csv\n",
    "city_data='output/cities.csv'\n",
    "#read csv\n",
    "city=pd.read_csv(city_data)\n",
    "city.head()\n"
   ]
  },
  {
   "cell_type": "code",
   "execution_count": 3,
   "metadata": {},
   "outputs": [],
   "source": [
    "#configure gmaps with API key\n",
    "gmaps.configure(api_key=g_key)"
   ]
  },
  {
   "cell_type": "markdown",
   "metadata": {},
   "source": [
    "### Camp Map\n",
    "* Store into variable named `hotel_df`.\n",
    "* Add a \"Campground\" column to the DataFrame.\n",
    "* Set parameters to search for hotels with 5000 meters.\n",
    "* Hit the Google Places API for each city's coordinates.\n",
    "* Store the first Hotel result into the DataFrame.\n",
    "* Plot markers on top of the heatmap."
   ]
  },
  {
   "cell_type": "code",
   "execution_count": 4,
   "metadata": {},
   "outputs": [
    {
     "data": {
      "text/plain": [
       "47"
      ]
     },
     "execution_count": 4,
     "metadata": {},
     "output_type": "execute_result"
    }
   ],
   "source": [
    "citytrim=city.dropna()\n",
    "vanlife1=citytrim[(citytrim['Country']=='US')]\n",
    "vanlife=vanlife1[(vanlife1['Lat']<=50)&(vanlife1['Lat']>=23)]\n",
    "len(vanlife.index)"
   ]
  },
  {
   "cell_type": "code",
   "execution_count": 5,
   "metadata": {},
   "outputs": [
    {
     "data": {
      "application/vnd.jupyter.widget-view+json": {
       "model_id": "58905cb6618342b7ad5de19989e4789e",
       "version_major": 2,
       "version_minor": 0
      },
      "text/plain": [
       "Figure(layout=FigureLayout(height='420px'))"
      ]
     },
     "metadata": {},
     "output_type": "display_data"
    }
   ],
   "source": [
    "locations=vanlife[['Lat', 'Lng']].astype(float)\n",
    "temp=vanlife['Max Temp'].astype(float)\n",
    "# Create a poverty Heatmap layer\n",
    "fig = gmaps.figure()\n",
    "\n",
    "heat_layer = gmaps.heatmap_layer(locations, weights=temp, \n",
    "                                 dissipating=False, max_intensity=100,\n",
    "                                 point_radius = 1)\n",
    "\n",
    "fig.add_layer(heat_layer)\n",
    "\n",
    "fig"
   ]
  },
  {
   "cell_type": "code",
   "execution_count": 6,
   "metadata": {},
   "outputs": [
    {
     "data": {
      "text/html": [
       "<div>\n",
       "<style scoped>\n",
       "    .dataframe tbody tr th:only-of-type {\n",
       "        vertical-align: middle;\n",
       "    }\n",
       "\n",
       "    .dataframe tbody tr th {\n",
       "        vertical-align: top;\n",
       "    }\n",
       "\n",
       "    .dataframe thead th {\n",
       "        text-align: right;\n",
       "    }\n",
       "</style>\n",
       "<table border=\"1\" class=\"dataframe\">\n",
       "  <thead>\n",
       "    <tr style=\"text-align: right;\">\n",
       "      <th></th>\n",
       "      <th>City</th>\n",
       "      <th>Country</th>\n",
       "      <th>Lat</th>\n",
       "      <th>Lng</th>\n",
       "      <th>Campground</th>\n",
       "    </tr>\n",
       "  </thead>\n",
       "  <tbody>\n",
       "    <tr>\n",
       "      <th>36</th>\n",
       "      <td>avarua</td>\n",
       "      <td>US</td>\n",
       "      <td>34.6391</td>\n",
       "      <td>-120.4579</td>\n",
       "      <td></td>\n",
       "    </tr>\n",
       "    <tr>\n",
       "      <th>47</th>\n",
       "      <td>taolanaro</td>\n",
       "      <td>US</td>\n",
       "      <td>42.0970</td>\n",
       "      <td>-79.2353</td>\n",
       "      <td></td>\n",
       "    </tr>\n",
       "    <tr>\n",
       "      <th>49</th>\n",
       "      <td>busselton</td>\n",
       "      <td>US</td>\n",
       "      <td>42.6001</td>\n",
       "      <td>-73.9662</td>\n",
       "      <td></td>\n",
       "    </tr>\n",
       "    <tr>\n",
       "      <th>55</th>\n",
       "      <td>port elizabeth</td>\n",
       "      <td>US</td>\n",
       "      <td>37.1041</td>\n",
       "      <td>-113.5841</td>\n",
       "      <td></td>\n",
       "    </tr>\n",
       "    <tr>\n",
       "      <th>82</th>\n",
       "      <td>bac lieu</td>\n",
       "      <td>US</td>\n",
       "      <td>42.2506</td>\n",
       "      <td>-75.8330</td>\n",
       "      <td></td>\n",
       "    </tr>\n",
       "  </tbody>\n",
       "</table>\n",
       "</div>"
      ],
      "text/plain": [
       "              City Country      Lat       Lng Campground\n",
       "36          avarua      US  34.6391 -120.4579           \n",
       "47       taolanaro      US  42.0970  -79.2353           \n",
       "49       busselton      US  42.6001  -73.9662           \n",
       "55  port elizabeth      US  37.1041 -113.5841           \n",
       "82        bac lieu      US  42.2506  -75.8330           "
      ]
     },
     "execution_count": 6,
     "metadata": {},
     "output_type": "execute_result"
    }
   ],
   "source": [
    "camp_df=vanlife[['City', 'Country', 'Lat', 'Lng']].copy()\n",
    "camp_df[\"Campground\"] = \"\"\n",
    "#len(camp_df.index)\n",
    "camp_df.head()"
   ]
  },
  {
   "cell_type": "code",
   "execution_count": 7,
   "metadata": {},
   "outputs": [
    {
     "data": {
      "text/html": [
       "<div>\n",
       "<style scoped>\n",
       "    .dataframe tbody tr th:only-of-type {\n",
       "        vertical-align: middle;\n",
       "    }\n",
       "\n",
       "    .dataframe tbody tr th {\n",
       "        vertical-align: top;\n",
       "    }\n",
       "\n",
       "    .dataframe thead th {\n",
       "        text-align: right;\n",
       "    }\n",
       "</style>\n",
       "<table border=\"1\" class=\"dataframe\">\n",
       "  <thead>\n",
       "    <tr style=\"text-align: right;\">\n",
       "      <th></th>\n",
       "      <th>City</th>\n",
       "      <th>Country</th>\n",
       "      <th>Lat</th>\n",
       "      <th>Lng</th>\n",
       "      <th>Campground</th>\n",
       "    </tr>\n",
       "  </thead>\n",
       "  <tbody>\n",
       "    <tr>\n",
       "      <th>36</th>\n",
       "      <td>avarua</td>\n",
       "      <td>US</td>\n",
       "      <td>34.6391</td>\n",
       "      <td>-120.4579</td>\n",
       "      <td>River Park</td>\n",
       "    </tr>\n",
       "    <tr>\n",
       "      <th>47</th>\n",
       "      <td>taolanaro</td>\n",
       "      <td>US</td>\n",
       "      <td>42.0970</td>\n",
       "      <td>-79.2353</td>\n",
       "      <td>Red House Campground</td>\n",
       "    </tr>\n",
       "    <tr>\n",
       "      <th>49</th>\n",
       "      <td>busselton</td>\n",
       "      <td>US</td>\n",
       "      <td>42.6001</td>\n",
       "      <td>-73.9662</td>\n",
       "      <td></td>\n",
       "    </tr>\n",
       "    <tr>\n",
       "      <th>55</th>\n",
       "      <td>port elizabeth</td>\n",
       "      <td>US</td>\n",
       "      <td>37.1041</td>\n",
       "      <td>-113.5841</td>\n",
       "      <td>Hillside Palms RV Park &amp; RV Storage &amp; Tiny Homes</td>\n",
       "    </tr>\n",
       "    <tr>\n",
       "      <th>82</th>\n",
       "      <td>bac lieu</td>\n",
       "      <td>US</td>\n",
       "      <td>42.2506</td>\n",
       "      <td>-75.8330</td>\n",
       "      <td>Salisbury Chenango Shores</td>\n",
       "    </tr>\n",
       "  </tbody>\n",
       "</table>\n",
       "</div>"
      ],
      "text/plain": [
       "              City Country      Lat       Lng  \\\n",
       "36          avarua      US  34.6391 -120.4579   \n",
       "47       taolanaro      US  42.0970  -79.2353   \n",
       "49       busselton      US  42.6001  -73.9662   \n",
       "55  port elizabeth      US  37.1041 -113.5841   \n",
       "82        bac lieu      US  42.2506  -75.8330   \n",
       "\n",
       "                                          Campground  \n",
       "36                                        River Park  \n",
       "47                              Red House Campground  \n",
       "49                                                    \n",
       "55  Hillside Palms RV Park & RV Storage & Tiny Homes  \n",
       "82                         Salisbury Chenango Shores  "
      ]
     },
     "execution_count": 7,
     "metadata": {},
     "output_type": "execute_result"
    }
   ],
   "source": [
    "#find the cloest campground\n",
    "base_url = \"https://maps.googleapis.com/maps/api/place/nearbysearch/json\"\n",
    "locations=camp_df[[\"Lat\", \"Lng\"]].astype(float)\n",
    "params = {\"rankby\": \"distance\",\n",
    "    \"type\": \"campground\",\n",
    "    \"key\": g_key,\n",
    "}\n",
    "for index, x in camp_df.iterrows():\n",
    "    params[\"location\"]=f\"{x['Lat']},{x['Lng']}\"\n",
    "    response = requests.get(base_url, params=params).json()\n",
    "    results = response['results']\n",
    "    \n",
    "    try:\n",
    "        #print(f\"found camp {results[0]['name']}\")\n",
    "        camp_df.loc[index,\"Campground\"]=results[0]['name']\n",
    "        \n",
    "    except (KeyError, IndexError):\n",
    "        \"Missing field/result... skipping.\"\n",
    "        \n",
    "camp_df.head()"
   ]
  },
  {
   "cell_type": "code",
   "execution_count": 8,
   "metadata": {},
   "outputs": [],
   "source": [
    "# Using the template add the campground marks to the heatmap\n",
    "info_box_template = \"\"\"\n",
    "<dl>\n",
    "<dt>Name</dt><dd>{Campground}</dd>\n",
    "<dt>City</dt><dd>{City}</dd>\n",
    "<dt>Country</dt><dd>{Country}</dd>\n",
    "</dl>\n",
    "\"\"\"\n",
    "# Store the DataFrame Row\n",
    "# NOTE: be sure to update with your DataFrame name\n",
    "camp_info = [info_box_template.format(**row) for index, row in camp_df.iterrows()]\n",
    "locations = camp_df[[\"Lat\", \"Lng\"]]"
   ]
  },
  {
   "cell_type": "code",
   "execution_count": 9,
   "metadata": {},
   "outputs": [
    {
     "data": {
      "application/vnd.jupyter.widget-view+json": {
       "model_id": "58905cb6618342b7ad5de19989e4789e",
       "version_major": 2,
       "version_minor": 0
      },
      "text/plain": [
       "Figure(layout=FigureLayout(height='420px'))"
      ]
     },
     "metadata": {},
     "output_type": "display_data"
    }
   ],
   "source": [
    "# Add marker layer ontop of heat map\n",
    "markers = gmaps.marker_layer(locations,info_box_content=camp_info)\n",
    "# Add the layer to the map\n",
    "fig.add_layer(markers)\n",
    "fig\n",
    "\n",
    "# Display figure"
   ]
  },
  {
   "cell_type": "code",
   "execution_count": null,
   "metadata": {},
   "outputs": [],
   "source": []
  }
 ],
 "metadata": {
  "kernelspec": {
   "display_name": "Python 3",
   "language": "python",
   "name": "python3"
  },
  "language_info": {
   "codemirror_mode": {
    "name": "ipython",
    "version": 3
   },
   "file_extension": ".py",
   "mimetype": "text/x-python",
   "name": "python",
   "nbconvert_exporter": "python",
   "pygments_lexer": "ipython3",
   "version": "3.8.5"
  },
  "latex_envs": {
   "LaTeX_envs_menu_present": true,
   "autoclose": false,
   "autocomplete": true,
   "bibliofile": "biblio.bib",
   "cite_by": "apalike",
   "current_citInitial": 1,
   "eqLabelWithNumbers": true,
   "eqNumInitial": 1,
   "hotkeys": {
    "equation": "Ctrl-E",
    "itemize": "Ctrl-I"
   },
   "labels_anchors": false,
   "latex_user_defs": false,
   "report_style_numbering": false,
   "user_envs_cfg": false
  }
 },
 "nbformat": 4,
 "nbformat_minor": 4
}
